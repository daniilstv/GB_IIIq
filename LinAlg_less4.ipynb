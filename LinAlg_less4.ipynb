{
 "cells": [
  {
   "cell_type": "code",
   "execution_count": 6,
   "metadata": {},
   "outputs": [],
   "source": [
    "import numpy as np"
   ]
  },
  {
   "cell_type": "markdown",
   "metadata": {},
   "source": [
    "__1.__ Решить систему уравнений методом Гаусса:\n",
    "\n",
    "$$\\begin{cases}\n",
    "x_{1}+x_{2}-x_{3}-2x_{4}=0, \\\\\n",
    "2x_{1}+x_{2}-x_{3}+x_{4}=-2, \\\\\n",
    "x_{1}+x_{2}-3x_{3}+x_{4}=4.\n",
    "\\end{cases}$$\n",
    "\n"
   ]
  },
  {
   "cell_type": "code",
   "execution_count": null,
   "metadata": {},
   "outputs": [],
   "source": [
    "[1,1,-1,-2, 0],\n",
    "[2,1,-1, 1,-2],\n",
    "[1,1,-3, 1, 4]\n",
    "\n",
    "[2, 2,-2,-4, 0],\n",
    "[0,-1,-3,-3,-2],\n",
    "[1, 1,-3, 1, 4]\n",
    "\n",
    "[1, 1,-1,-2, 0],\n",
    "[0,-1,-3,-3,-2],\n",
    "[0, 0,-2, 3, 4]\n",
    "\n",
    "Ранг матрицы равен максимальному порядку ненулевого минора.\n",
    "\n",
    "Определитель для матрицы 3*3\n",
    "Определитель = 2+0+0-0-0-0=2     \n",
    "Определитель = -3-1-2+1+1+6=2   \n",
    "Определитель = -9 +0+4-0-6-3 = -14\n",
    "\n",
    "Определитель для расширенной матрицы 3*3\n",
    "Определитель = -12 -8 +0 -0 -6-24 = -50\n",
    "\n",
    "ранг - 3\n",
    "ранг расширенной матрицы - 3\n",
    "\n",
    "Кол-во переменных больше кол-ва уравнений. Система имеет бесконечное множество решений.\n",
    "\n",
    "Решение в общем виде\n",
    "x4 = c\n",
    "\n",
    "-2*x3 + 4*c = 4\n",
    "x3 = 2*c - 2\n",
    "\n",
    "-x2-3*(2*c -2)-3*c = -2\n",
    "x2 = 2 - 3*c - 6*c + 6\n",
    "x2 = 8-9*c\n",
    "\n",
    "x + 8 - 9*c - 2*c +2 - 4*c +4 = 0\n",
    "x = 15*c - 14\n",
    "\n",
    "Общее решение: \n",
    "    x = 15*c - 14\n",
    "    x2 = 8-9*c\n",
    "    x3 = 2*c - 2\n",
    "    x4 = c\n",
    "\n",
    "Частное решение:\n",
    "    x = - 14\n",
    "    x2 = 8\n",
    "    x3 = - 2\n",
    "    x4 = 0\n",
    "    \n",
    "\n",
    "\n"
   ]
  },
  {
   "cell_type": "code",
   "execution_count": 16,
   "metadata": {},
   "outputs": [
    {
     "name": "stdout",
     "output_type": "stream",
     "text": [
      "Матрица:\n",
      "[[ 1.  1. -1. -2.]\n",
      " [ 2.  1. -1.  1.]\n",
      " [ 1.  1. -3.  1.]]\n",
      "Ранг матрицы: 3\n",
      "Матрица:\n",
      "[[ 1  1 -1 -2  0]\n",
      " [ 2  1 -1  1 -2]\n",
      " [ 1  1 -3  1  4]]\n",
      "Ранг матрицы: 3\n"
     ]
    }
   ],
   "source": [
    "# Проверка\n",
    "a = np.array([[1.,1.,-1.,-2.],\n",
    "              [2.,1.,-1., 1.],\n",
    "              [1.,1.,-3., 1.]])\n",
    "b =  np.array([[1,1,-1,-2, 0],\n",
    "               [2,1,-1, 1,-2],\n",
    "               [1,1,-3, 1, 4]])\n",
    "print(f'Матрица:\\n{a}')\n",
    "r1 = np.linalg.matrix_rank(a)\n",
    "print(f'Ранг матрицы: {r1}')\n",
    "\n",
    "print(f'Матрица:\\n{b}')\n",
    "r2 = np.linalg.matrix_rank(b)\n",
    "print(f'Ранг матрицы: {r2}')"
   ]
  },
  {
   "cell_type": "code",
   "execution_count": 19,
   "metadata": {},
   "outputs": [
    {
     "ename": "LinAlgError",
     "evalue": "Last 2 dimensions of the array must be square",
     "output_type": "error",
     "traceback": [
      "\u001b[0;31m---------------------------------------------------------------------------\u001b[0m",
      "\u001b[0;31mLinAlgError\u001b[0m                               Traceback (most recent call last)",
      "\u001b[0;32m<ipython-input-19-cee838d203f5>\u001b[0m in \u001b[0;36m<module>\u001b[0;34m\u001b[0m\n\u001b[1;32m      1\u001b[0m \u001b[0mv\u001b[0m \u001b[0;34m=\u001b[0m \u001b[0mnp\u001b[0m\u001b[0;34m.\u001b[0m\u001b[0marray\u001b[0m\u001b[0;34m(\u001b[0m\u001b[0;34m[\u001b[0m\u001b[0;36m0\u001b[0m\u001b[0;34m,\u001b[0m\u001b[0;34m-\u001b[0m\u001b[0;36m2.\u001b[0m\u001b[0;34m,\u001b[0m\u001b[0;36m4.\u001b[0m\u001b[0;34m]\u001b[0m\u001b[0;34m)\u001b[0m\u001b[0;34m\u001b[0m\u001b[0;34m\u001b[0m\u001b[0m\n\u001b[0;32m----> 2\u001b[0;31m \u001b[0mx\u001b[0m \u001b[0;34m=\u001b[0m \u001b[0mnp\u001b[0m\u001b[0;34m.\u001b[0m\u001b[0mlinalg\u001b[0m\u001b[0;34m.\u001b[0m\u001b[0msolve\u001b[0m\u001b[0;34m(\u001b[0m\u001b[0ma\u001b[0m\u001b[0;34m,\u001b[0m\u001b[0mb\u001b[0m\u001b[0;34m)\u001b[0m\u001b[0;34m\u001b[0m\u001b[0;34m\u001b[0m\u001b[0m\n\u001b[0m",
      "\u001b[0;32m<__array_function__ internals>\u001b[0m in \u001b[0;36msolve\u001b[0;34m(*args, **kwargs)\u001b[0m\n",
      "\u001b[0;32m~/anaconda3/lib/python3.7/site-packages/numpy/linalg/linalg.py\u001b[0m in \u001b[0;36msolve\u001b[0;34m(a, b)\u001b[0m\n\u001b[1;32m    388\u001b[0m     \u001b[0ma\u001b[0m\u001b[0;34m,\u001b[0m \u001b[0m_\u001b[0m \u001b[0;34m=\u001b[0m \u001b[0m_makearray\u001b[0m\u001b[0;34m(\u001b[0m\u001b[0ma\u001b[0m\u001b[0;34m)\u001b[0m\u001b[0;34m\u001b[0m\u001b[0;34m\u001b[0m\u001b[0m\n\u001b[1;32m    389\u001b[0m     \u001b[0m_assertRankAtLeast2\u001b[0m\u001b[0;34m(\u001b[0m\u001b[0ma\u001b[0m\u001b[0;34m)\u001b[0m\u001b[0;34m\u001b[0m\u001b[0;34m\u001b[0m\u001b[0m\n\u001b[0;32m--> 390\u001b[0;31m     \u001b[0m_assertNdSquareness\u001b[0m\u001b[0;34m(\u001b[0m\u001b[0ma\u001b[0m\u001b[0;34m)\u001b[0m\u001b[0;34m\u001b[0m\u001b[0;34m\u001b[0m\u001b[0m\n\u001b[0m\u001b[1;32m    391\u001b[0m     \u001b[0mb\u001b[0m\u001b[0;34m,\u001b[0m \u001b[0mwrap\u001b[0m \u001b[0;34m=\u001b[0m \u001b[0m_makearray\u001b[0m\u001b[0;34m(\u001b[0m\u001b[0mb\u001b[0m\u001b[0;34m)\u001b[0m\u001b[0;34m\u001b[0m\u001b[0;34m\u001b[0m\u001b[0m\n\u001b[1;32m    392\u001b[0m     \u001b[0mt\u001b[0m\u001b[0;34m,\u001b[0m \u001b[0mresult_t\u001b[0m \u001b[0;34m=\u001b[0m \u001b[0m_commonType\u001b[0m\u001b[0;34m(\u001b[0m\u001b[0ma\u001b[0m\u001b[0;34m,\u001b[0m \u001b[0mb\u001b[0m\u001b[0;34m)\u001b[0m\u001b[0;34m\u001b[0m\u001b[0;34m\u001b[0m\u001b[0m\n",
      "\u001b[0;32m~/anaconda3/lib/python3.7/site-packages/numpy/linalg/linalg.py\u001b[0m in \u001b[0;36m_assertNdSquareness\u001b[0;34m(*arrays)\u001b[0m\n\u001b[1;32m    211\u001b[0m         \u001b[0mm\u001b[0m\u001b[0;34m,\u001b[0m \u001b[0mn\u001b[0m \u001b[0;34m=\u001b[0m \u001b[0ma\u001b[0m\u001b[0;34m.\u001b[0m\u001b[0mshape\u001b[0m\u001b[0;34m[\u001b[0m\u001b[0;34m-\u001b[0m\u001b[0;36m2\u001b[0m\u001b[0;34m:\u001b[0m\u001b[0;34m]\u001b[0m\u001b[0;34m\u001b[0m\u001b[0;34m\u001b[0m\u001b[0m\n\u001b[1;32m    212\u001b[0m         \u001b[0;32mif\u001b[0m \u001b[0mm\u001b[0m \u001b[0;34m!=\u001b[0m \u001b[0mn\u001b[0m\u001b[0;34m:\u001b[0m\u001b[0;34m\u001b[0m\u001b[0;34m\u001b[0m\u001b[0m\n\u001b[0;32m--> 213\u001b[0;31m             \u001b[0;32mraise\u001b[0m \u001b[0mLinAlgError\u001b[0m\u001b[0;34m(\u001b[0m\u001b[0;34m'Last 2 dimensions of the array must be square'\u001b[0m\u001b[0;34m)\u001b[0m\u001b[0;34m\u001b[0m\u001b[0;34m\u001b[0m\u001b[0m\n\u001b[0m\u001b[1;32m    214\u001b[0m \u001b[0;34m\u001b[0m\u001b[0m\n\u001b[1;32m    215\u001b[0m \u001b[0;32mdef\u001b[0m \u001b[0m_assertFinite\u001b[0m\u001b[0;34m(\u001b[0m\u001b[0;34m*\u001b[0m\u001b[0marrays\u001b[0m\u001b[0;34m)\u001b[0m\u001b[0;34m:\u001b[0m\u001b[0;34m\u001b[0m\u001b[0;34m\u001b[0m\u001b[0m\n",
      "\u001b[0;31mLinAlgError\u001b[0m: Last 2 dimensions of the array must be square"
     ]
    }
   ],
   "source": [
    "v = np.array([0,-2.,4.])\n",
    "x = np.linalg.solve(a,b)\n",
    "# Ошибка из-за бесконечного множества решений?"
   ]
  },
  {
   "cell_type": "markdown",
   "metadata": {},
   "source": [
    "__2.__ Проверить на совместность и выяснить, сколько решений будет иметь система линейных уравнений:\n",
    "\n",
    "   а) $\\begin{cases}\n",
    "3x_{1}-x_{2}+x_{3}=4, \\\\\n",
    "2x_{1}-5x_{2}-3x_{3}=-17, \\\\\n",
    "x_{1}+x_{2}-x_{3}=0;\n",
    "\\end{cases}$\n",
    "    \n",
    "   б) $\\begin{cases}\n",
    "2x_{1}-4x_{2}+6x_{3}=1, \\\\\n",
    "x_{1}-2x_{2}+3x_{3}=-2, \\\\\n",
    "3x_{1}-6x_{2}+9x_{3}=5;\n",
    "\\end{cases}$\n",
    "    \n",
    "   в) $\\begin{cases}\n",
    "x_{1}+2x_{2}+5x_{3}=4, \\\\\n",
    "3x_{1}+x_{2}-8x_{3}=-2. \n",
    "\\end{cases}$\n",
    "\n"
   ]
  },
  {
   "cell_type": "code",
   "execution_count": 22,
   "metadata": {},
   "outputs": [
    {
     "name": "stdout",
     "output_type": "stream",
     "text": [
      "Матрица:\n",
      "[[ 3 -1  1]\n",
      " [ 2 -5 -3]\n",
      " [ 1  1 -1]]\n",
      "Ранг матрицы: 3\n",
      "Матрица:\n",
      "[[  3  -1   1   4]\n",
      " [  2  -5  -3 -17]\n",
      " [  1   1  -1   0]]\n",
      "Ранг матрицы: 3\n",
      "Решение: [1. 2. 3.]\n"
     ]
    }
   ],
   "source": [
    "#a) Ранги равны кол-ву переменных. Решение одно.\n",
    "\n",
    "a = np.array([[3,-1,1],\n",
    "              [2,-5,-3],\n",
    "              [1,1,-1]])\n",
    "b = np.array([[3,-1,1,4],\n",
    "              [2,-5,-3,-17],\n",
    "              [1,1,-1,0]])\n",
    "v = np.array([4,-17,0])\n",
    "\n",
    "print(f'Матрица:\\n{a}')\n",
    "r1 = np.linalg.matrix_rank(a)\n",
    "print(f'Ранг матрицы: {r1}')\n",
    "\n",
    "print(f'Матрица:\\n{b}')\n",
    "r2 = np.linalg.matrix_rank(b)\n",
    "print(f'Ранг матрицы: {r2}')\n",
    "\n",
    "x = np.linalg.solve(a,v)\n",
    "print(f'Решение: {x}')\n",
    "\n"
   ]
  },
  {
   "cell_type": "code",
   "execution_count": 23,
   "metadata": {
    "scrolled": true
   },
   "outputs": [
    {
     "name": "stdout",
     "output_type": "stream",
     "text": [
      "Матрица:\n",
      "[[ 2 -4  6]\n",
      " [ 1 -2  3]\n",
      " [ 3 -6  9]]\n",
      "Ранг матрицы: 1\n",
      "Матрица:\n",
      "[[ 2 -4  6  1]\n",
      " [ 1 -2  3 -2]\n",
      " [ 3 -6  9  5]]\n",
      "Ранг матрицы: 2\n"
     ]
    },
    {
     "ename": "LinAlgError",
     "evalue": "Singular matrix",
     "output_type": "error",
     "traceback": [
      "\u001b[0;31m---------------------------------------------------------------------------\u001b[0m",
      "\u001b[0;31mLinAlgError\u001b[0m                               Traceback (most recent call last)",
      "\u001b[0;32m<ipython-input-23-82d8cfd2acf9>\u001b[0m in \u001b[0;36m<module>\u001b[0;34m\u001b[0m\n\u001b[1;32m     17\u001b[0m \u001b[0mprint\u001b[0m\u001b[0;34m(\u001b[0m\u001b[0;34mf'Ранг матрицы: {r2}'\u001b[0m\u001b[0;34m)\u001b[0m\u001b[0;34m\u001b[0m\u001b[0;34m\u001b[0m\u001b[0m\n\u001b[1;32m     18\u001b[0m \u001b[0;34m\u001b[0m\u001b[0m\n\u001b[0;32m---> 19\u001b[0;31m \u001b[0mx\u001b[0m \u001b[0;34m=\u001b[0m \u001b[0mnp\u001b[0m\u001b[0;34m.\u001b[0m\u001b[0mlinalg\u001b[0m\u001b[0;34m.\u001b[0m\u001b[0msolve\u001b[0m\u001b[0;34m(\u001b[0m\u001b[0ma\u001b[0m\u001b[0;34m,\u001b[0m\u001b[0mv\u001b[0m\u001b[0;34m)\u001b[0m\u001b[0;34m\u001b[0m\u001b[0;34m\u001b[0m\u001b[0m\n\u001b[0m\u001b[1;32m     20\u001b[0m \u001b[0mprint\u001b[0m\u001b[0;34m(\u001b[0m\u001b[0;34mf'Решение: {x}'\u001b[0m\u001b[0;34m)\u001b[0m\u001b[0;34m\u001b[0m\u001b[0;34m\u001b[0m\u001b[0m\n\u001b[1;32m     21\u001b[0m \u001b[0;34m\u001b[0m\u001b[0m\n",
      "\u001b[0;32m<__array_function__ internals>\u001b[0m in \u001b[0;36msolve\u001b[0;34m(*args, **kwargs)\u001b[0m\n",
      "\u001b[0;32m~/anaconda3/lib/python3.7/site-packages/numpy/linalg/linalg.py\u001b[0m in \u001b[0;36msolve\u001b[0;34m(a, b)\u001b[0m\n\u001b[1;32m    401\u001b[0m     \u001b[0msignature\u001b[0m \u001b[0;34m=\u001b[0m \u001b[0;34m'DD->D'\u001b[0m \u001b[0;32mif\u001b[0m \u001b[0misComplexType\u001b[0m\u001b[0;34m(\u001b[0m\u001b[0mt\u001b[0m\u001b[0;34m)\u001b[0m \u001b[0;32melse\u001b[0m \u001b[0;34m'dd->d'\u001b[0m\u001b[0;34m\u001b[0m\u001b[0;34m\u001b[0m\u001b[0m\n\u001b[1;32m    402\u001b[0m     \u001b[0mextobj\u001b[0m \u001b[0;34m=\u001b[0m \u001b[0mget_linalg_error_extobj\u001b[0m\u001b[0;34m(\u001b[0m\u001b[0m_raise_linalgerror_singular\u001b[0m\u001b[0;34m)\u001b[0m\u001b[0;34m\u001b[0m\u001b[0;34m\u001b[0m\u001b[0m\n\u001b[0;32m--> 403\u001b[0;31m     \u001b[0mr\u001b[0m \u001b[0;34m=\u001b[0m \u001b[0mgufunc\u001b[0m\u001b[0;34m(\u001b[0m\u001b[0ma\u001b[0m\u001b[0;34m,\u001b[0m \u001b[0mb\u001b[0m\u001b[0;34m,\u001b[0m \u001b[0msignature\u001b[0m\u001b[0;34m=\u001b[0m\u001b[0msignature\u001b[0m\u001b[0;34m,\u001b[0m \u001b[0mextobj\u001b[0m\u001b[0;34m=\u001b[0m\u001b[0mextobj\u001b[0m\u001b[0;34m)\u001b[0m\u001b[0;34m\u001b[0m\u001b[0;34m\u001b[0m\u001b[0m\n\u001b[0m\u001b[1;32m    404\u001b[0m \u001b[0;34m\u001b[0m\u001b[0m\n\u001b[1;32m    405\u001b[0m     \u001b[0;32mreturn\u001b[0m \u001b[0mwrap\u001b[0m\u001b[0;34m(\u001b[0m\u001b[0mr\u001b[0m\u001b[0;34m.\u001b[0m\u001b[0mastype\u001b[0m\u001b[0;34m(\u001b[0m\u001b[0mresult_t\u001b[0m\u001b[0;34m,\u001b[0m \u001b[0mcopy\u001b[0m\u001b[0;34m=\u001b[0m\u001b[0;32mFalse\u001b[0m\u001b[0;34m)\u001b[0m\u001b[0;34m)\u001b[0m\u001b[0;34m\u001b[0m\u001b[0;34m\u001b[0m\u001b[0m\n",
      "\u001b[0;32m~/anaconda3/lib/python3.7/site-packages/numpy/linalg/linalg.py\u001b[0m in \u001b[0;36m_raise_linalgerror_singular\u001b[0;34m(err, flag)\u001b[0m\n\u001b[1;32m     95\u001b[0m \u001b[0;34m\u001b[0m\u001b[0m\n\u001b[1;32m     96\u001b[0m \u001b[0;32mdef\u001b[0m \u001b[0m_raise_linalgerror_singular\u001b[0m\u001b[0;34m(\u001b[0m\u001b[0merr\u001b[0m\u001b[0;34m,\u001b[0m \u001b[0mflag\u001b[0m\u001b[0;34m)\u001b[0m\u001b[0;34m:\u001b[0m\u001b[0;34m\u001b[0m\u001b[0;34m\u001b[0m\u001b[0m\n\u001b[0;32m---> 97\u001b[0;31m     \u001b[0;32mraise\u001b[0m \u001b[0mLinAlgError\u001b[0m\u001b[0;34m(\u001b[0m\u001b[0;34m\"Singular matrix\"\u001b[0m\u001b[0;34m)\u001b[0m\u001b[0;34m\u001b[0m\u001b[0;34m\u001b[0m\u001b[0m\n\u001b[0m\u001b[1;32m     98\u001b[0m \u001b[0;34m\u001b[0m\u001b[0m\n\u001b[1;32m     99\u001b[0m \u001b[0;32mdef\u001b[0m \u001b[0m_raise_linalgerror_nonposdef\u001b[0m\u001b[0;34m(\u001b[0m\u001b[0merr\u001b[0m\u001b[0;34m,\u001b[0m \u001b[0mflag\u001b[0m\u001b[0;34m)\u001b[0m\u001b[0;34m:\u001b[0m\u001b[0;34m\u001b[0m\u001b[0;34m\u001b[0m\u001b[0m\n",
      "\u001b[0;31mLinAlgError\u001b[0m: Singular matrix"
     ]
    }
   ],
   "source": [
    "#б) Ранги не равны и меньше кол-ва переменных. Решения нет.\n",
    "\n",
    "a = np.array([[2,-4,6],\n",
    "              [1,-2,3],\n",
    "              [3,-6,9]])\n",
    "b = np.array([[2,-4,6,1],\n",
    "              [1,-2,3,-2],\n",
    "              [3,-6,9,5]])\n",
    "v = np.array([1,-2,5])\n",
    "\n",
    "print(f'Матрица:\\n{a}')\n",
    "r1 = np.linalg.matrix_rank(a)\n",
    "print(f'Ранг матрицы: {r1}')\n",
    "\n",
    "print(f'Матрица:\\n{b}')\n",
    "r2 = np.linalg.matrix_rank(b)\n",
    "print(f'Ранг матрицы: {r2}')\n",
    "\n",
    "x = np.linalg.solve(a,v)\n",
    "print(f'Решение: {x}')\n",
    "\n",
    "\n"
   ]
  },
  {
   "cell_type": "code",
   "execution_count": 24,
   "metadata": {
    "scrolled": true
   },
   "outputs": [
    {
     "name": "stdout",
     "output_type": "stream",
     "text": [
      "Матрица:\n",
      "[[ 1  2  5]\n",
      " [ 3  1 -8]]\n",
      "Ранг матрицы: 2\n",
      "Матрица:\n",
      "[[ 1  2  5  4]\n",
      " [ 3  1 -8 -2]]\n",
      "Ранг матрицы: 2\n"
     ]
    },
    {
     "ename": "LinAlgError",
     "evalue": "Last 2 dimensions of the array must be square",
     "output_type": "error",
     "traceback": [
      "\u001b[0;31m---------------------------------------------------------------------------\u001b[0m",
      "\u001b[0;31mLinAlgError\u001b[0m                               Traceback (most recent call last)",
      "\u001b[0;32m<ipython-input-24-141d519f8020>\u001b[0m in \u001b[0;36m<module>\u001b[0;34m\u001b[0m\n\u001b[1;32m     15\u001b[0m \u001b[0mprint\u001b[0m\u001b[0;34m(\u001b[0m\u001b[0;34mf'Ранг матрицы: {r2}'\u001b[0m\u001b[0;34m)\u001b[0m\u001b[0;34m\u001b[0m\u001b[0;34m\u001b[0m\u001b[0m\n\u001b[1;32m     16\u001b[0m \u001b[0;34m\u001b[0m\u001b[0m\n\u001b[0;32m---> 17\u001b[0;31m \u001b[0mx\u001b[0m \u001b[0;34m=\u001b[0m \u001b[0mnp\u001b[0m\u001b[0;34m.\u001b[0m\u001b[0mlinalg\u001b[0m\u001b[0;34m.\u001b[0m\u001b[0msolve\u001b[0m\u001b[0;34m(\u001b[0m\u001b[0ma\u001b[0m\u001b[0;34m,\u001b[0m\u001b[0mv\u001b[0m\u001b[0;34m)\u001b[0m\u001b[0;34m\u001b[0m\u001b[0;34m\u001b[0m\u001b[0m\n\u001b[0m\u001b[1;32m     18\u001b[0m \u001b[0mprint\u001b[0m\u001b[0;34m(\u001b[0m\u001b[0;34mf'Решение: {x}'\u001b[0m\u001b[0;34m)\u001b[0m\u001b[0;34m\u001b[0m\u001b[0;34m\u001b[0m\u001b[0m\n\u001b[1;32m     19\u001b[0m \u001b[0;34m\u001b[0m\u001b[0m\n",
      "\u001b[0;32m<__array_function__ internals>\u001b[0m in \u001b[0;36msolve\u001b[0;34m(*args, **kwargs)\u001b[0m\n",
      "\u001b[0;32m~/anaconda3/lib/python3.7/site-packages/numpy/linalg/linalg.py\u001b[0m in \u001b[0;36msolve\u001b[0;34m(a, b)\u001b[0m\n\u001b[1;32m    388\u001b[0m     \u001b[0ma\u001b[0m\u001b[0;34m,\u001b[0m \u001b[0m_\u001b[0m \u001b[0;34m=\u001b[0m \u001b[0m_makearray\u001b[0m\u001b[0;34m(\u001b[0m\u001b[0ma\u001b[0m\u001b[0;34m)\u001b[0m\u001b[0;34m\u001b[0m\u001b[0;34m\u001b[0m\u001b[0m\n\u001b[1;32m    389\u001b[0m     \u001b[0m_assertRankAtLeast2\u001b[0m\u001b[0;34m(\u001b[0m\u001b[0ma\u001b[0m\u001b[0;34m)\u001b[0m\u001b[0;34m\u001b[0m\u001b[0;34m\u001b[0m\u001b[0m\n\u001b[0;32m--> 390\u001b[0;31m     \u001b[0m_assertNdSquareness\u001b[0m\u001b[0;34m(\u001b[0m\u001b[0ma\u001b[0m\u001b[0;34m)\u001b[0m\u001b[0;34m\u001b[0m\u001b[0;34m\u001b[0m\u001b[0m\n\u001b[0m\u001b[1;32m    391\u001b[0m     \u001b[0mb\u001b[0m\u001b[0;34m,\u001b[0m \u001b[0mwrap\u001b[0m \u001b[0;34m=\u001b[0m \u001b[0m_makearray\u001b[0m\u001b[0;34m(\u001b[0m\u001b[0mb\u001b[0m\u001b[0;34m)\u001b[0m\u001b[0;34m\u001b[0m\u001b[0;34m\u001b[0m\u001b[0m\n\u001b[1;32m    392\u001b[0m     \u001b[0mt\u001b[0m\u001b[0;34m,\u001b[0m \u001b[0mresult_t\u001b[0m \u001b[0;34m=\u001b[0m \u001b[0m_commonType\u001b[0m\u001b[0;34m(\u001b[0m\u001b[0ma\u001b[0m\u001b[0;34m,\u001b[0m \u001b[0mb\u001b[0m\u001b[0;34m)\u001b[0m\u001b[0;34m\u001b[0m\u001b[0;34m\u001b[0m\u001b[0m\n",
      "\u001b[0;32m~/anaconda3/lib/python3.7/site-packages/numpy/linalg/linalg.py\u001b[0m in \u001b[0;36m_assertNdSquareness\u001b[0;34m(*arrays)\u001b[0m\n\u001b[1;32m    211\u001b[0m         \u001b[0mm\u001b[0m\u001b[0;34m,\u001b[0m \u001b[0mn\u001b[0m \u001b[0;34m=\u001b[0m \u001b[0ma\u001b[0m\u001b[0;34m.\u001b[0m\u001b[0mshape\u001b[0m\u001b[0;34m[\u001b[0m\u001b[0;34m-\u001b[0m\u001b[0;36m2\u001b[0m\u001b[0;34m:\u001b[0m\u001b[0;34m]\u001b[0m\u001b[0;34m\u001b[0m\u001b[0;34m\u001b[0m\u001b[0m\n\u001b[1;32m    212\u001b[0m         \u001b[0;32mif\u001b[0m \u001b[0mm\u001b[0m \u001b[0;34m!=\u001b[0m \u001b[0mn\u001b[0m\u001b[0;34m:\u001b[0m\u001b[0;34m\u001b[0m\u001b[0;34m\u001b[0m\u001b[0m\n\u001b[0;32m--> 213\u001b[0;31m             \u001b[0;32mraise\u001b[0m \u001b[0mLinAlgError\u001b[0m\u001b[0;34m(\u001b[0m\u001b[0;34m'Last 2 dimensions of the array must be square'\u001b[0m\u001b[0;34m)\u001b[0m\u001b[0;34m\u001b[0m\u001b[0;34m\u001b[0m\u001b[0m\n\u001b[0m\u001b[1;32m    214\u001b[0m \u001b[0;34m\u001b[0m\u001b[0m\n\u001b[1;32m    215\u001b[0m \u001b[0;32mdef\u001b[0m \u001b[0m_assertFinite\u001b[0m\u001b[0;34m(\u001b[0m\u001b[0;34m*\u001b[0m\u001b[0marrays\u001b[0m\u001b[0;34m)\u001b[0m\u001b[0;34m:\u001b[0m\u001b[0;34m\u001b[0m\u001b[0;34m\u001b[0m\u001b[0m\n",
      "\u001b[0;31mLinAlgError\u001b[0m: Last 2 dimensions of the array must be square"
     ]
    }
   ],
   "source": [
    "#в) Ранги равны и меньше кол-ва переменных. Решений бесконечное множество.\n",
    "\n",
    "a = np.array([[1,2,5],\n",
    "              [3,1,-8]])\n",
    "b = np.array([[1,2,5,4],\n",
    "              [3,1,-8,-2]])\n",
    "v = np.array([4,-2])\n",
    "\n",
    "print(f'Матрица:\\n{a}')\n",
    "r1 = np.linalg.matrix_rank(a)\n",
    "print(f'Ранг матрицы: {r1}')\n",
    "\n",
    "print(f'Матрица:\\n{b}')\n",
    "r2 = np.linalg.matrix_rank(b)\n",
    "print(f'Ранг матрицы: {r2}')\n",
    "\n",
    "x = np.linalg.solve(a,v)\n",
    "print(f'Решение: {x}')\n",
    "\n"
   ]
  },
  {
   "cell_type": "markdown",
   "metadata": {},
   "source": [
    "__3.__ Проверить на совместность и выяснить, сколько решений будет иметь система линейных уравнений, заданная расширенной матрицей\n",
    "\n",
    "$$\\tilde{A}=\\begin{pmatrix}\n",
    "\\left.\\begin{matrix}\n",
    "1 & 3 & -2 & 4\\\\ \n",
    "0 & 5 & 0 & 1\\\\ \n",
    "0 & 0 & 3 & 0\\\\ \n",
    "0 & 0 & 0 & 2\n",
    "\\end{matrix}\\right|\n",
    "\\begin{matrix}\n",
    "3\\\\ \n",
    "2\\\\\n",
    "4\\\\\n",
    "1\n",
    "\\end{matrix}\n",
    "\\end{pmatrix}.$$"
   ]
  },
  {
   "cell_type": "code",
   "execution_count": 26,
   "metadata": {},
   "outputs": [
    {
     "name": "stdout",
     "output_type": "stream",
     "text": [
      "Матрица:\n",
      "[[ 1  3 -2  4]\n",
      " [ 0  5  0  1]\n",
      " [ 0  0 -3  0]\n",
      " [ 0  0  0  2]]\n",
      "Ранг матрицы: 4\n",
      "Матрица:\n",
      "[[ 1  3 -2  4  3]\n",
      " [ 0  5  0  1  2]\n",
      " [ 0  0 -3  0  4]\n",
      " [ 0  0  0  2  1]]\n",
      "Ранг матрицы: 4\n",
      "Решение: [-2.56666667  0.3        -1.33333333  0.5       ]\n"
     ]
    }
   ],
   "source": [
    "# Система совместна, имеет одно решение, т.к. ранги (размерность) равны кол-ву переменных.\n",
    "a = np.array([[1,3,-2,4],\n",
    "              [0,5,0,1],\n",
    "              [0,0,-3,0],\n",
    "              [0,0,0,2]])\n",
    "b = np.array([[1,3,-2,4,3],\n",
    "              [0,5,0,1,2],\n",
    "              [0,0,-3,0,4],\n",
    "              [0,0,0,2,1]])\n",
    "v = np.array([3,2,4,1])\n",
    "\n",
    "print(f'Матрица:\\n{a}')\n",
    "r1 = np.linalg.matrix_rank(a)\n",
    "print(f'Ранг матрицы: {r1}')\n",
    "\n",
    "print(f'Матрица:\\n{b}')\n",
    "r2 = np.linalg.matrix_rank(b)\n",
    "print(f'Ранг матрицы: {r2}')\n",
    "\n",
    "x = np.linalg.solve(a,v)\n",
    "print(f'Решение: {x}')\n",
    "\n",
    "\n"
   ]
  },
  {
   "cell_type": "markdown",
   "metadata": {},
   "source": [
    "__4.__ Дана система линейных уравнений, заданная расширенной матрицей\n",
    "\n",
    "$$\\tilde{A}=\\begin{pmatrix}\n",
    "\\left.\\begin{matrix}\n",
    "1 & 2 & 3\\\\ \n",
    "4 & 5 & 6\\\\ \n",
    "7 & 8 & 9\n",
    "\\end{matrix}\\right|\n",
    "\\begin{matrix}\n",
    "a\\\\ \n",
    "b\\\\\n",
    "c\n",
    "\\end{matrix}\n",
    "\\end{pmatrix}.$$\n",
    "\n",
    "Найти соотношение между параметрами $a$, $b$ и $c$, при которых система является несовместной."
   ]
  },
  {
   "cell_type": "code",
   "execution_count": null,
   "metadata": {},
   "outputs": [],
   "source": [
    "[[1,2,3,a],\n",
    " [4,5,6,b],\n",
    " [7,8,9,c]]\n",
    "\n",
    "[[1, 2, 3,   a],\n",
    " [0,-3,-6, b-4a],\n",
    " [0,-6,-12,c-7a]]\n",
    "\n",
    "[[1, 2, 3,   a],\n",
    " [0,-3,-6, b-4a],\n",
    " [0, 0,0,c-7a+2b-8a]]\n",
    "\n",
    "[[1, 2, 3,   a],\n",
    " [0,-3,-6, b-4a],\n",
    " [0, 0,0,c+2b-15a]]\n",
    "\n",
    "В несовместной системе вектор (a,b,c) не принадлежит пространству, заданному матрицей.\n",
    "\n",
    "При соотношении параметров c, 2b, -15a мы потеряем третью строку, система будет недоопределённой.\n",
    "Ранг матрицы = 2 \n",
    "Если c+2b-15a != 0 то система будет несовместной, не будет иметь решений.\n"
   ]
  },
  {
   "cell_type": "code",
   "execution_count": 28,
   "metadata": {},
   "outputs": [
    {
     "name": "stdout",
     "output_type": "stream",
     "text": [
      "Матрица:\n",
      "[[ 1  2  3]\n",
      " [ 0 -3 -6]\n",
      " [ 0  0  0]]\n",
      "Ранг матрицы: 2\n",
      "Матрица:\n",
      "[[1 2 3]\n",
      " [4 5 6]\n",
      " [7 8 9]]\n",
      "Ранг матрицы: 2\n"
     ]
    }
   ],
   "source": [
    "a = np.array([[1, 2, 3],\n",
    "             [0,-3,-6],\n",
    "             [0, 0,0]])\n",
    "print(f'Матрица:\\n{a}')\n",
    "r1 = np.linalg.matrix_rank(a)\n",
    "print(f'Ранг матрицы: {r1}')\n",
    "\n",
    "b = np.array([[1,2,3],\n",
    "             [4,5,6],\n",
    "             [7,8,9]])\n",
    "print(f'Матрица:\\n{b}')\n",
    "r1 = np.linalg.matrix_rank(b)\n",
    "print(f'Ранг матрицы: {r1}')"
   ]
  },
  {
   "cell_type": "code",
   "execution_count": null,
   "metadata": {},
   "outputs": [],
   "source": []
  },
  {
   "cell_type": "markdown",
   "metadata": {},
   "source": [
    "__1.__ Решить систему уравнений методом Крамера:\n",
    "\n",
    "   а) $\\begin{cases}\n",
    "x_{1}-2x_{2}=1 \\\\\n",
    "3x_{1}-4x_{2}=7\n",
    "\\end{cases}$\n",
    "    \n",
    "   б) $\\begin{cases}\n",
    "2x_{1}-x_{2}+5x_{3}=10 \\\\\n",
    "x_{1}+x_{2}-3x_{3}=-2 \\\\\n",
    "2x_{1}+4x_{2}+x_{3}=1\n",
    "\\end{cases}$\n",
    "\n",
    "\n",
    "\n"
   ]
  },
  {
   "cell_type": "code",
   "execution_count": null,
   "metadata": {},
   "outputs": [],
   "source": [
    "а)\n",
    "Определитель -4+6 = 2. Система имеет одно решение.\n",
    "x1 = (-4+14)/2 = 5\n",
    "x2 = (7-3)/2 = 2\n",
    "\n",
    "проверка 5-4=1"
   ]
  },
  {
   "cell_type": "code",
   "execution_count": null,
   "metadata": {},
   "outputs": [],
   "source": [
    "б) \n",
    "Определитель = 43 Система имеет одно решение.\n",
    "\n",
    "x1 = 86/43 = 2\n",
    "x2 = -43/43 = -1\n",
    "x3 = 43/43 = 1"
   ]
  },
  {
   "cell_type": "code",
   "execution_count": 32,
   "metadata": {},
   "outputs": [
    {
     "name": "stdout",
     "output_type": "stream",
     "text": [
      "Матрица:\n",
      "[[ 2 -1  5]\n",
      " [ 1  1 -3]\n",
      " [ 2  4  1]]\n",
      "Определитель:\n",
      "43\n",
      "Определитель x1:\n",
      "86\n",
      "Определитель x2:\n",
      "-43\n",
      "Определитель x3:\n",
      "43\n"
     ]
    }
   ],
   "source": [
    "a = np.array([[2, -1, 5],\n",
    "             [1,1,-3],\n",
    "             [2, 4,1]])\n",
    "print(f'Матрица:\\n{a}')\n",
    "print(f'Определитель:\\n{np.linalg.det(a):.0f}')\n",
    "\n",
    "x1 = np.array([[10, -1, 5],\n",
    "             [-2,1,-3],\n",
    "             [1, 4,1]])\n",
    "#print(f'Матрица:\\n{a}')\n",
    "print(f'Определитель x1:\\n{np.linalg.det(x1):.0f}')\n",
    "\n",
    "x2 = np.array([[2, 10, 5],\n",
    "             [1,-2,-3],\n",
    "             [2, 1,1]])\n",
    "#print(f'Матрица:\\n{a}')\n",
    "print(f'Определитель x2:\\n{np.linalg.det(x2):.0f}')\n",
    "\n",
    "x3 = np.array([[2, -1, 10],\n",
    "             [1,1,-2],\n",
    "             [2, 4,1]])\n",
    "#print(f'Матрица:\\n{a}')\n",
    "print(f'Определитель x3:\\n{np.linalg.det(x3):.0f}')\n",
    "\n",
    "\n",
    "\n",
    "\n"
   ]
  },
  {
   "cell_type": "markdown",
   "metadata": {},
   "source": [
    "__2.__ Найти $L$-матрицу $LU$-разложения для матрицы коэффициентов:\n",
    "\n",
    "   а)$$\\begin{pmatrix}\n",
    "1 & 2 & 4 \\\\ \n",
    "2 & 9 & 12 \\\\ \n",
    "3 & 26 & 30\n",
    "\\end{pmatrix}$$\n",
    "    \n",
    "   б)$$\\begin{pmatrix}\n",
    "1 & 1 & 2 & 4\\\\ \n",
    "2 & 5 & 8 & 9\\\\ \n",
    "3 & 18 & 29 & 18\\\\\n",
    "4 & 22 & 53 & 33\n",
    "\\end{pmatrix}$$\n",
    "    "
   ]
  },
  {
   "cell_type": "code",
   "execution_count": null,
   "metadata": {},
   "outputs": [],
   "source": [
    "а)\n",
    "[1, 2, 4],\n",
    "[2,9,12],\n",
    "[3,26,30]\n",
    "\n",
    "[1, 2, 4],\n",
    "[0,5,4],\n",
    "[3,26,30]\n",
    "\n",
    "[1, 2, 4],\n",
    "[0,5,4],\n",
    "[0,20,18]\n",
    "\n",
    "[1, 2, 4],\n",
    "[0,5,4],\n",
    "[0,0,2]\n",
    "\n",
    "L-матрица\n",
    "[1,0,0],\n",
    "[2,1,0],\n",
    "[3,4,1]\n",
    "\n",
    "\n"
   ]
  },
  {
   "cell_type": "code",
   "execution_count": 46,
   "metadata": {},
   "outputs": [
    {
     "name": "stdout",
     "output_type": "stream",
     "text": [
      "[[2 2 4]\n",
      " [2 6 4]\n",
      " [3 4 3]]\n",
      "[[1 0 0]\n",
      " [0 5 0]\n",
      " [0 0 2]]\n",
      "[[ 1  2  4]\n",
      " [ 2  9 12]\n",
      " [ 3 26 30]]\n"
     ]
    }
   ],
   "source": [
    "a = np.array([[1, 2, 4],\n",
    "                [0,5,4],\n",
    "                [0,0,2]])\n",
    "b = np.array([[1,0,0],\n",
    "                [2,1,0],\n",
    "                [3,4,1]])\n",
    "\n",
    "print(a+b)\n",
    "print(a*b)\n",
    "print(b.dot(a))"
   ]
  },
  {
   "cell_type": "code",
   "execution_count": 42,
   "metadata": {
    "collapsed": true
   },
   "outputs": [
    {
     "ename": "SyntaxError",
     "evalue": "invalid syntax (<ipython-input-42-a02900157516>, line 1)",
     "output_type": "error",
     "traceback": [
      "\u001b[0;36m  File \u001b[0;32m\"<ipython-input-42-a02900157516>\"\u001b[0;36m, line \u001b[0;32m1\u001b[0m\n\u001b[0;31m    б)\u001b[0m\n\u001b[0m     ^\u001b[0m\n\u001b[0;31mSyntaxError\u001b[0m\u001b[0;31m:\u001b[0m invalid syntax\n"
     ]
    }
   ],
   "source": [
    "б)\n",
    "[1,1, 2,4],\n",
    "[2,5,8,9],\n",
    "[3,18,29,18],\n",
    "[4,22,53,33]\n",
    "\n",
    "[1,1, 2,4],\n",
    "[0,3,4,1],\n",
    "[3,18,29,18],\n",
    "[4,22,53,33]\n",
    "\n",
    "[1,1, 2,4],\n",
    "[0,3,4,1],\n",
    "[0,15,23,6],\n",
    "[4,22,53,33]\n",
    "\n",
    "[1,1, 2,4],\n",
    "[0,3,4,1],\n",
    "[0,0,3,1],\n",
    "[4,22,53,33]\n",
    "\n",
    "[1,1,2,4],\n",
    "[0,3,4,1],\n",
    "[0,0,3,1],\n",
    "[0,18,45,17]\n",
    "\n",
    "[1,1,2,4],\n",
    "[0,3,4,1],\n",
    "[0,0,3,1],\n",
    "[0,0,21,13]\n",
    "\n",
    "[1,1,2,4],\n",
    "[0,3,4,1],\n",
    "[0,0,3,1],\n",
    "[0,0,0,6]\n",
    "\n",
    "L-матрица\n",
    "[1,0,0,0],\n",
    "[2,1,0,0],\n",
    "[3,5,1,0],\n",
    "[4,6,7,1]\n"
   ]
  },
  {
   "cell_type": "code",
   "execution_count": 45,
   "metadata": {},
   "outputs": [
    {
     "name": "stdout",
     "output_type": "stream",
     "text": [
      "[[2 1 2 4]\n",
      " [2 4 4 1]\n",
      " [3 5 4 1]\n",
      " [4 6 7 7]]\n",
      "[[1 0 0 0]\n",
      " [0 3 0 0]\n",
      " [0 0 3 0]\n",
      " [0 0 0 6]]\n",
      "[[ 1  1  2  4]\n",
      " [ 2  5  8  9]\n",
      " [ 3 18 29 18]\n",
      " [ 4 22 53 35]]\n"
     ]
    }
   ],
   "source": [
    "a = np.array([[1,1,2,4],\n",
    "            [0,3,4,1],\n",
    "            [0,0,3,1],\n",
    "            [0,0,0,6]])\n",
    "b = np.array([[1,0,0,0],\n",
    "            [2,1,0,0],\n",
    "            [3,5,1,0],\n",
    "            [4,6,7,1]])\n",
    "\n",
    "print(a+b)\n",
    "print(a*b)\n",
    "print(b.dot(a))"
   ]
  },
  {
   "cell_type": "markdown",
   "metadata": {},
   "source": [
    "\n",
    "__3.__ Решить систему линейных уравнений методом $LU$-разложения\n",
    "\n",
    "$$\\begin{cases}\n",
    "2x_{1}+x_{2}+3x_{3}=1 \\\\\n",
    "11x_{1}+7x_{2}+5x_{3}=-6 \\\\\n",
    "9x_{1}+8x_{2}+4x_{3}=-5\n",
    "\\end{cases}$$"
   ]
  },
  {
   "cell_type": "code",
   "execution_count": null,
   "metadata": {},
   "outputs": [],
   "source": [
    "[ 2, 1, 3],\n",
    "[11, 7, 5],\n",
    "[ 9, 8, 4]\n",
    "\n",
    "[ 2, 1, 3],\n",
    "[0, 1.5, -11.5],\n",
    "[ 9, 8, 4]\n",
    "\n",
    "[ 2, 1,     3],\n",
    "[ 0, 1.5, -11.5],\n",
    "[ 0, 3.5,  -6.5]\n",
    "\n",
    "[ 2, 1,     3],\n",
    "[ 0, 1.5, -11.5],\n",
    "[ 0, 0, -6.5*3.5/1.5]\n",
    "\n",
    "\n",
    "L-матрица\n",
    "[ 1,   0, 0],\n",
    "[ 5.5, 1, 0],\n",
    "[ 4.5, 3.5/1.5, 1]\n",
    "\n",
    "\n",
    "y1 = 1\n",
    "y2 = -6 - 5.5 = -11.5\n",
    "y3 = -5 + 3.5/1.5 * 11.5 - 4.5 = 17.(3) = 17+1/3\n",
    "\n",
    "\n",
    "-6.5*3.5/1.5*x3 = 17+1/3 \n",
    "91/6x3=17+1/3 \n",
    "x3 = 8/7\n",
    "\n",
    "1.5 * x2 -11.5 * (8/7) = -11.5\n",
    "1.5 * x2 = -11.5 + 11.5 * (8/7)\n",
    "3/2 * x = -(10+3/2) + (10+3/2) * (8/7) = 23/14\n",
    "x2 = 1.09524 = 9/7\n",
    "\n",
    "2*x1 + 9/7 + 3*8/7 = 1\n",
    "2*x1 = - 26/7\n",
    "x1 = 13/7 = 1+6/7 = 1.(857142)\n",
    "\n",
    "Ответ:\n",
    "x1 = 13/7 = 1+6/7 = 1.(857142)\n",
    "x2 = 1.09524 = 9/7\n",
    "x3 = 8/7"
   ]
  },
  {
   "cell_type": "code",
   "execution_count": 73,
   "metadata": {},
   "outputs": [
    {
     "data": {
      "text/plain": [
       "17.333333333333332"
      ]
     },
     "execution_count": 73,
     "metadata": {},
     "output_type": "execute_result"
    }
   ],
   "source": [
    "-11.5*3-6.5\n",
    "-5 + 11.5*3 - 4.5\n",
    "25/41\n",
    "-11.5 + 11.5 * (25/41)\n",
    "11.5 * 25\n",
    "(287.5 - 11.5*41)\n",
    "(287.5 - 11.5*41)/41\n",
    "184/1.5\n",
    "3.5/1.5\n",
    "-5 + 3.5/1.5 * 11.5 - 4.5\n",
    "3.5*11.5 == 40.25\n",
    "9.5*1.5\n",
    "40.25 - 14.25 == 26\n",
    "26/1.5"
   ]
  },
  {
   "cell_type": "markdown",
   "metadata": {},
   "source": [
    "__4.__ Решить систему линейных уравнений методом Холецкого\n",
    "\n",
    "$$\\begin{cases}\n",
    "81x_{1}-45x_{2}+45x_{3}=531 \\\\\n",
    "-45x_{1}+50x_{2}-15x_{3}=-460 \\\\\n",
    "45x_{1}-15x_{2}+38x_{3}=193\n",
    "\\end{cases}$$"
   ]
  },
  {
   "cell_type": "code",
   "execution_count": null,
   "metadata": {},
   "outputs": [],
   "source": []
  },
  {
   "cell_type": "markdown",
   "metadata": {},
   "source": [
    "\n",
    "\n",
    "__5*.__ Написать на Python программу с реализацией одного из изученных алгоритмов решения СЛАУ."
   ]
  },
  {
   "cell_type": "code",
   "execution_count": null,
   "metadata": {},
   "outputs": [],
   "source": []
  }
 ],
 "metadata": {
  "kernelspec": {
   "display_name": "Python 3",
   "language": "python",
   "name": "python3"
  },
  "language_info": {
   "codemirror_mode": {
    "name": "ipython",
    "version": 3
   },
   "file_extension": ".py",
   "mimetype": "text/x-python",
   "name": "python",
   "nbconvert_exporter": "python",
   "pygments_lexer": "ipython3",
   "version": "3.7.4"
  }
 },
 "nbformat": 4,
 "nbformat_minor": 2
}
