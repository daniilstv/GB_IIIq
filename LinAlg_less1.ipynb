{
 "cells": [
  {
   "cell_type": "markdown",
   "metadata": {},
   "source": [
    "#### Урок 1. Линейное пространство"
   ]
  },
  {
   "cell_type": "markdown",
   "metadata": {},
   "source": [
    "__1.__ Исследовать на линейную зависимость:\n",
    "$$f_{1}(x)=e^{x}, f_{2}(x)=1, f_{3}(x)=x+1, f_{4}(x)=x-e^{x}.$$"
   ]
  },
  {
   "cell_type": "markdown",
   "metadata": {},
   "source": [
    "Выражаем векторы друг через друга:"
   ]
  },
  {
   "cell_type": "markdown",
   "metadata": {},
   "source": [
    "\n",
    "$$f_{4}(x)=x-f_{1}(x).$$\n",
    "$$f_{3}(x)=x+f_{2}(x)$$"
   ]
  },
  {
   "cell_type": "markdown",
   "metadata": {},
   "source": [
    "$$f_{4}(x)+f_{1}(x)=x$$\n",
    "$$f_{3}(x)-f_{2}(x)=x$$"
   ]
  },
  {
   "cell_type": "markdown",
   "metadata": {},
   "source": [
    "$$f_{4}(x)+f_{1}(x)=f_{3}(x)-f_{2}(x)$$"
   ]
  },
  {
   "cell_type": "markdown",
   "metadata": {},
   "source": [
    "#### Векторы линейно зависимы, т.к. равенство линейно"
   ]
  },
  {
   "cell_type": "markdown",
   "metadata": {},
   "source": [
    "__2.__ Исследовать на линейную зависимость:\n",
    "$$f_{1}(x)=2, f_{2}(x)=x, f_{3}(x)=x^{2}, f_{4}(x)=(x+1)^{2}.$$"
   ]
  },
  {
   "cell_type": "markdown",
   "metadata": {},
   "source": [
    "Выражаем векторы друг через друга:"
   ]
  },
  {
   "cell_type": "markdown",
   "metadata": {},
   "source": [
    "$$f_{4}(x)=x^{2}+x+1.$$"
   ]
  },
  {
   "cell_type": "markdown",
   "metadata": {},
   "source": [
    "#### $$f_{4}(x)=f_{3}(x)+f_{2}(x)+2f_{1}(x).$$"
   ]
  },
  {
   "cell_type": "markdown",
   "metadata": {},
   "source": [
    "#### Векторы линейно зависимы, т.к. равенство линейно"
   ]
  },
  {
   "cell_type": "markdown",
   "metadata": {},
   "source": [
    "Два вектора плоскости линейно зависимы тогда и только тогда, когда они коллинеарны. Для того чтобы два вектора плоскости  были коллинеарны, необходимо и достаточно, чтобы их соответствующие координаты были пропорциональны"
   ]
  },
  {
   "cell_type": "markdown",
   "metadata": {},
   "source": [
    "__3.__ Найти координаты вектора $x = (2, 3, 5)\\in \\mathbb{R}^{3}$ в базисе $b_{1}=(0, 0, 10)$, $b_{2}=(2, 0, 0)$, $b_{3}=(0, 1, 0)$."
   ]
  },
  {
   "cell_type": "code",
   "execution_count": 84,
   "metadata": {},
   "outputs": [],
   "source": [
    "# x = ( 2*2 , 3*1 , 5*10). Координаты в базисе b1:  (4, 3, 50)"
   ]
  },
  {
   "cell_type": "markdown",
   "metadata": {},
   "source": [
    "__4.__ Найти координаты вектора $3x^{2}-2x+2\\in\\mathbb{R}^{3}[x]$:\n",
    "\n",
    "   а) в базисе $1$, $x$, $x^{2}$;\n",
    "\n",
    "   б) в базисе $x^{2}$, $x-1$, $1$."
   ]
  },
  {
   "cell_type": "markdown",
   "metadata": {},
   "source": [
    "#### Ответ\n",
    "\n",
    "а) $3x^{2}-2x^{2}+2^{2}\\in\\mathbb{R}^{3}[x]$"
   ]
  },
  {
   "cell_type": "markdown",
   "metadata": {},
   "source": [
    "б) $3x^{4}-(2x^{2}-2x)+2\\in\\mathbb{R}^{3}[x]$\n",
    "\n",
    "$3x^{4}-2x^{2}+2x+2\\in\\mathbb{R}^{3}[x]$\n",
    "\n",
    "#### Вопрос: четвёртая степень х не выводит вектор из 3-х мерного пространства, а говорит о степенном приращении аргумента, верно? "
   ]
  },
  {
   "cell_type": "markdown",
   "metadata": {},
   "source": [
    "__5.__ Установить, является ли линейным подпространством:\n",
    "\n",
    "а) совокупность всех векторов трехмерного пространства, у которых по крайней мере одна из первых двух координат равна нулю;\n",
    "    \n",
    "б) все векторы, являющиеся линейными комбинациями данных векторов $\\{u_{1}, u_{2}, ..., u_{n}\\}$."
   ]
  },
  {
   "cell_type": "markdown",
   "metadata": {},
   "source": [
    "#### Ответ\n",
    "\n",
    "а)\n",
    "\n",
    "$$(0, a, b)+(0, c, d) = (0, a+c, b+d),$$ $$\\alpha\\cdot (0, a, b) = (0, \\alpha a, \\alpha b).$$\n",
    "\n",
    "\n",
    "Полученные векторы также принадлежат указанному в задании множеству всех векторов вида $(0, a, b)$, то есть данное множество является подпространством линейного пространства $\\mathbb{R}^{3}$.\n",
    "\n",
    "Векторы с нулевой координатой не выходят за пространство. В случае с одной нулевой координатой будут лежать на плоскости внутри трёхмерного пространства."
   ]
  },
  {
   "cell_type": "markdown",
   "metadata": {},
   "source": [
    "б) Да, векторы, являющиеся линейной комбинацией будут решением системы уравнений векторов и находиться в подпространстве."
   ]
  },
  {
   "cell_type": "markdown",
   "metadata": {},
   "source": [
    "__1.__ Найти скалярное произведение векторов $x, y \\in \\mathbb{R}$:<br>\n",
    "а) $x=(0,-3, 6),~y=(-4, 7, 9);$<br>\n",
    "б) $x=(7, -4, 0, 1),~y=(-3, 1, 11, 2).$\n",
    "\n"
   ]
  },
  {
   "cell_type": "code",
   "execution_count": 85,
   "metadata": {},
   "outputs": [
    {
     "data": {
      "text/plain": [
       "33"
      ]
     },
     "execution_count": 85,
     "metadata": {},
     "output_type": "execute_result"
    }
   ],
   "source": [
    "# (x,y)\n",
    "0*(-4) + (-3)*7 + 6*9"
   ]
  },
  {
   "cell_type": "code",
   "execution_count": 86,
   "metadata": {},
   "outputs": [
    {
     "name": "stdout",
     "output_type": "stream",
     "text": [
      "Скалярное произведение a и b:\n",
      "33\n"
     ]
    }
   ],
   "source": [
    "import numpy as np\n",
    "a = np.array([0, -3, 6])\n",
    "b = np.array([-4, 7, 9])\n",
    "print(f'Скалярное произведение a и b:\\n{np.dot(a, b)}')"
   ]
  },
  {
   "cell_type": "markdown",
   "metadata": {},
   "source": [
    "__2.__ Найти нормы векторов $(4, 2, 4)$ и $(12, 3, 4)$ и угол между ними."
   ]
  },
  {
   "cell_type": "code",
   "execution_count": 87,
   "metadata": {},
   "outputs": [
    {
     "name": "stdout",
     "output_type": "stream",
     "text": [
      "Норма в евклидовом пространстве:6.0 и 13.0\n",
      "Угол: cos(0.897)\n",
      "Норма в манхэттенском пространстве:10 и 19\n"
     ]
    }
   ],
   "source": [
    "\n",
    "a = np.sqrt(4**2 + 2**2 + 4**2)\n",
    "b = np.sqrt(12**2 + 3**2 + 4**2)\n",
    "print(f'Норма в евклидовом пространстве:{a} и {b}')\n",
    "f = (4*12 + 2*3 + 4*4)/(a*b)\n",
    "print(f'Угол: cos({f.round(3)})')\n",
    "\n",
    "c = 4+2+4\n",
    "d = 12+3+4\n",
    "print(f'Норма в манхэттенском пространстве:{c} и {d}')"
   ]
  },
  {
   "cell_type": "code",
   "execution_count": 88,
   "metadata": {},
   "outputs": [
    {
     "name": "stdout",
     "output_type": "stream",
     "text": [
      "l2 норма вектора a:\n",
      "6.0\n",
      "l2 норма вектора a:\n",
      "13.0\n",
      "Косинус угла между a и b: 0.897\n",
      "Угол между a и b: 0.46\n"
     ]
    }
   ],
   "source": [
    "a = np.array([4, 2, 4])\n",
    "b = np.array([12, 3, 4])\n",
    "\n",
    "print(f'l2 норма вектора a:\\n{np.linalg.norm(a, ord=2)}')\n",
    "print(f'l2 норма вектора a:\\n{np.linalg.norm(b, ord=2)}')\n",
    "\n",
    "cos_phi = np.dot(a, b) / np.linalg.norm(a) / np.linalg.norm(b)\n",
    "print(f'Косинус угла между a и b: {cos_phi:.3f}')\n",
    "print(f'Угол между a и b: {np.arccos(cos_phi):.2f}')"
   ]
  },
  {
   "cell_type": "markdown",
   "metadata": {},
   "source": [
    "\n",
    "__3.__ Будет ли линейное пространство евклидовым, если за скалярное произведение принять:<br>\n",
    "а) произведение длин векторов;<br>\n",
    "б) утроенное обычное скалярное произведение векторов?"
   ]
  },
  {
   "cell_type": "markdown",
   "metadata": {},
   "source": [
    "Действительное линейное пространство со скалярным произведением называется евклидовым, если на нем введено правило, согласно которому каждой упорядоченной паре векторов $x$ и $y$ поставлено в соответствие вещественное число, называемое скалярным произведением и обозначаемое символом $(x, y)$.\n",
    "\n",
    "При этом указанное правило должно подчиняться четырем аксиомам:\n",
    "1) $(x,y)=(y,x);$\n",
    "2) $(\\lambda x, y)=\\lambda(x, y);$\n",
    "3) $(x_{1}+x_{2},y)=(x_{1},y)+(x_{2},y);$\n",
    "4) $(x, x)\\geq0$, причем $(x,x)=0\\Leftrightarrow x=0.$\n"
   ]
  },
  {
   "cell_type": "code",
   "execution_count": 89,
   "metadata": {},
   "outputs": [
    {
     "name": "stdout",
     "output_type": "stream",
     "text": [
      "Скалярное произведение a и b:29\n",
      "\n",
      "[ -4 -21  54] произведение длин = 29\n"
     ]
    }
   ],
   "source": [
    "a = np.array([1, -3, 6])\n",
    "b = np.array([-4, 7, 9])\n",
    "print(f'Скалярное произведение a и b:{np.dot(a, b)}\\n')\n",
    "\n",
    "c = a*b\n",
    "print(c, 'произведение длин =', c[0]+c[1]+c[2])"
   ]
  },
  {
   "cell_type": "code",
   "execution_count": 90,
   "metadata": {
    "scrolled": true
   },
   "outputs": [
    {
     "name": "stdout",
     "output_type": "stream",
     "text": [
      "True\n",
      "True\n",
      "True\n",
      "True\n",
      "а) Ответ: будет\n"
     ]
    }
   ],
   "source": [
    "print(np.dot(a, b) == np.dot(b, a))\n",
    "print(np.dot(42*a, b) == 42*np.dot(a, b))\n",
    "c = np.array([-1, 2, 3])\n",
    "print(np.dot(a+c, b) == np.dot(a, b) + np.dot(c, b))\n",
    "print(np.dot(a, b) >= 0)\n",
    "\n",
    "print(\"а) Ответ: будет\")\n",
    "# Вопрос: поясните, пожалуйста, эту задачу."
   ]
  },
  {
   "cell_type": "code",
   "execution_count": 91,
   "metadata": {},
   "outputs": [
    {
     "name": "stdout",
     "output_type": "stream",
     "text": [
      "True\n",
      "True\n",
      "True\n",
      "True\n",
      "б) Ответ: будет\n"
     ]
    }
   ],
   "source": [
    "print(3*np.dot(a, b) == 3*np.dot(b, a))\n",
    "print(3*np.dot(42*a, b) == 3*42*np.dot(a, b))\n",
    "c = np.array([-1, 2, 3])\n",
    "print(3*np.dot(a+c, b) == 3*np.dot(a, b) + 3*np.dot(c, b))\n",
    "print(3*np.dot(a, b) >= 0)\n",
    "\n",
    "print(\"б) Ответ: будет\")"
   ]
  },
  {
   "cell_type": "markdown",
   "metadata": {},
   "source": [
    "__4.__ Какие из нижеперечисленных векторов образуют ортонормированный базис в линейном пространстве $\\mathbb{R}^{3}$:<br>\n",
    "а) $(1,0,0),(0,0,1);$ <br>\n",
    "б) $(1/\\sqrt{2},-1/\\sqrt{2},0),(1/\\sqrt{2},1/\\sqrt{2},0), (0,0,1);$<br>\n",
    "в) $(1/2, -1/2, 0), (0, 1/2, 1/2), (0,0,1);$<br>\n",
    "г) $(1,0,0),(0,1,0),(0,0,1)?$ "
   ]
  },
  {
   "cell_type": "markdown",
   "metadata": {},
   "source": [
    "Необходимые условия для ортонормированного базиса:\n",
    "\n",
    "векора должны быть ортогональны, т.е. скалярное произведение равно 0\n",
    "Длины (нормы) векторов должны быть равны 1"
   ]
  },
  {
   "cell_type": "code",
   "execution_count": 94,
   "metadata": {},
   "outputs": [
    {
     "name": "stdout",
     "output_type": "stream",
     "text": [
      " а - нет, т.к. нет базиса для третьего измерения\n",
      "\n",
      "0.0\n",
      "0.0\n",
      "0.0\n",
      "1.0\n",
      "1.0\n",
      "1.0\n",
      " б - да, т.к. скалярное произведение = 0, норма = 1 \n",
      "\n",
      "-0.25\n",
      "0.0\n",
      "0.5\n",
      "0.7071067811865476\n",
      "0.7071067811865476\n",
      "1.0\n",
      " в - нет, условия не выполняются\n",
      "\n",
      " г - да, три вектора одинаковой длины в разных направлениях (измерениях) \n"
     ]
    }
   ],
   "source": [
    "print(' а - нет, т.к. нет базиса для третьего измерения\\n')\n",
    "\n",
    "# б\n",
    "a = (1/np.sqrt(2), -1/np.sqrt(2), 0)\n",
    "b = (1/np.sqrt(2), 1/np.sqrt(2), 0)\n",
    "c = (0, 0, 1)\n",
    "\n",
    "print(np.dot(a, b))\n",
    "print(np.dot(a, c))\n",
    "print(np.dot(c, b))\n",
    "\n",
    "print(np.linalg.norm(a, ord=2).round(3))\n",
    "print(np.linalg.norm(b, ord=2).round(3))\n",
    "print(np.linalg.norm(c, ord=2))\n",
    "print(' б - да, т.к. скалярное произведение = 0, норма = 1 \\n')\n",
    "      \n",
    "# в \n",
    "a = (1/2, -1/2, 0)\n",
    "b = (0, 1/2, 1/2)\n",
    "c = (0, 0, 1)\n",
    "\n",
    "print(np.dot(a, b))\n",
    "print(np.dot(a, c))\n",
    "print(np.dot(c, b))\n",
    "\n",
    "print(np.linalg.norm(a, ord=2))\n",
    "print(np.linalg.norm(b, ord=2))\n",
    "print(np.linalg.norm(c, ord=2))\n",
    "print(' в - нет, условия не выполняются\\n')\n",
    "\n",
    "print(' г - да, три вектора одинаковой длины в разных направлениях (измерениях) ')"
   ]
  },
  {
   "cell_type": "code",
   "execution_count": null,
   "metadata": {},
   "outputs": [],
   "source": []
  },
  {
   "cell_type": "code",
   "execution_count": null,
   "metadata": {},
   "outputs": [],
   "source": []
  },
  {
   "cell_type": "code",
   "execution_count": null,
   "metadata": {},
   "outputs": [],
   "source": []
  }
 ],
 "metadata": {
  "kernelspec": {
   "display_name": "Python 3",
   "language": "python",
   "name": "python3"
  },
  "language_info": {
   "codemirror_mode": {
    "name": "ipython",
    "version": 3
   },
   "file_extension": ".py",
   "mimetype": "text/x-python",
   "name": "python",
   "nbconvert_exporter": "python",
   "pygments_lexer": "ipython3",
   "version": "3.7.4"
  }
 },
 "nbformat": 4,
 "nbformat_minor": 2
}
