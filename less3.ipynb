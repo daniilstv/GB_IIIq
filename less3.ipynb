{
 "cells": [
  {
   "cell_type": "markdown",
   "metadata": {},
   "source": [
    "#### Урок 3. Парсинг HTML. BS, SQLAlchemy"
   ]
  },
  {
   "cell_type": "markdown",
   "metadata": {},
   "source": [
    "1) Развернуть у себя на компьютере/виртуальной машине/хостинге MongoDB и реализовать функцию, записывающую собранные вакансии в созданную БД\n",
    "2) Написать функцию, которая производит поиск и выводит на экран вакансии с заработной платой больше введенной суммы\n",
    "3*)Написать функцию, которая будет добавлять в вашу базу данных только новые вакансии с сайта"
   ]
  },
  {
   "cell_type": "code",
   "execution_count": 146,
   "metadata": {},
   "outputs": [
    {
     "data": {
      "text/plain": [
       "'\\ndocker run -d -p 127.0.0.1:27017:27017 --name mongo4parsing mongo\\ndocker ps -a\\ndocker start f48a0957b452\\ndocker exec -it f48a0957b452 mongo\\n\\n'"
      ]
     },
     "execution_count": 146,
     "metadata": {},
     "output_type": "execute_result"
    }
   ],
   "source": [
    "# Установка БД\n",
    "\"\"\"\n",
    "docker run -d -p 127.0.0.1:27017:27017 --name mongo4parsing mongo\n",
    "docker ps -a\n",
    "docker start f48a0957b452\n",
    "docker exec -it f48a0957b452 mongo\n",
    "\n",
    "\"\"\""
   ]
  },
  {
   "cell_type": "code",
   "execution_count": 15,
   "metadata": {},
   "outputs": [],
   "source": [
    "from pymongo import MongoClient\n",
    "import pandas as pd\n",
    "import numpy as np\n",
    "from pprint import pprint\n",
    "\n",
    "client = MongoClient('mongodb://127.0.0.1:27017')\n",
    "vacancy_pd = pd.read_pickle('vacancy_pd.pkl')"
   ]
  },
  {
   "cell_type": "code",
   "execution_count": 16,
   "metadata": {},
   "outputs": [
    {
     "data": {
      "text/plain": [
       "list"
      ]
     },
     "execution_count": 16,
     "metadata": {},
     "output_type": "execute_result"
    }
   ],
   "source": [
    "vacancy_pd\n",
    "type(vacancy_pd[\"min_salary\"][3])"
   ]
  },
  {
   "cell_type": "code",
   "execution_count": 17,
   "metadata": {},
   "outputs": [],
   "source": [
    "def db_vacancy_writer(df):\n",
    "    client.vacancy.docs.drop()\n",
    "    vacancy_db = client['vacancy']\n",
    "    docs = vacancy_db.docs\n",
    "    result = docs.insert_many(df.to_dict(orient='records'))\n",
    "    return result.inserted_ids"
   ]
  },
  {
   "cell_type": "code",
   "execution_count": 18,
   "metadata": {},
   "outputs": [],
   "source": [
    "client.vacancy.docs.drop()\n",
    "a = db_vacancy_writer(vacancy_pd)\n"
   ]
  },
  {
   "cell_type": "code",
   "execution_count": 19,
   "metadata": {},
   "outputs": [],
   "source": [
    "def db_vacancy_search(salary):\n",
    "    vacancy_db = client['vacancy']\n",
    "    docs = vacancy_db.docs\n",
    "    collections = docs.find({ \"min_salary\": {'$gte':salary} }).sort(\"min_salary\")\n",
    "    for x in collections:\n",
    "        print(*x['vacancy'], \": зарплата от \", *x['min_salary'], \" до \",*x['max_salary'])\n",
    "        \n",
    "    a = docs.find({ \"max_salary\": {'$gte':salary} } ).sort(\"max_salary\")# \n",
    "    for x in a:\n",
    "        print(*x['vacancy'], \": зарплата до \",*x['max_salary'])\n",
    "\n"
   ]
  },
  {
   "cell_type": "code",
   "execution_count": 20,
   "metadata": {},
   "outputs": [
    {
     "name": "stdout",
     "output_type": "stream",
     "text": [
      "Системный аналитик : зарплата от  100000  до  150000\n",
      "Программист 1C : зарплата от  100000  до  200000\n",
      "Старший маркетолог-аналитик : зарплата от  105000  до  nan\n",
      "Ведущий специалист по внутреннему аудиту : зарплата от  110000  до  nan\n",
      "Начальник отдела финансового мониторинга : зарплата от  110000  до  nan\n",
      "Врач-методист : зарплата от  110000  до  nan\n",
      "Менеджер проектного офиса : зарплата от  115000  до  nan\n",
      "Методолог-консультант : зарплата от  120000  до  120000\n",
      "Методолог : зарплата от  120000  до  nan\n",
      "Руководитель проектного офиса : зарплата от  120000  до  160000\n",
      "Системный аналитик : зарплата от  130000  до  160000\n",
      "Системный аналитик (чат-боты) : зарплата от  149500  до  195000\n",
      "Начальник отдела проектного офиса (IT-компания) : зарплата от  150000  до  200000\n",
      "Бизнес-аналитик : зарплата от  150000  до  nan\n",
      "Заместитель главного бухгалтера по работе с дочерними обществами : зарплата от  180000  до  nan\n",
      "Методолог-консультант : зарплата до  100000\n",
      "Менеджер проектов : зарплата до  100000\n",
      "Внутренний аудитор : зарплата до  100000\n",
      "Аналитик (бизнес, консалтинг) : зарплата до  100000\n",
      "Руководитель отдела методологии учета и отчетности : зарплата до  120000\n",
      "Аналитик : зарплата до  120000\n",
      "Руководитель финансового отдела : зарплата до  120000\n",
      "Бизнес-аналитик : зарплата до  120000\n",
      "Методолог-консультант : зарплата до  120000\n",
      "Ведущий бизнес-аналитик (методолог) : зарплата до  120000\n",
      "Экономист отдела анализа производственных процессов : зарплата до  120000\n",
      "Врач-методист : зарплата до  120000\n",
      "Методолог/Финансовый Бизнес аналитик : зарплата до  150000\n",
      "Методолог : зарплата до  150000\n",
      "Начальник Управления финансового мониторинга в Банк (ответственный сотрудник) : зарплата до  150000\n",
      "Системный аналитик : зарплата до  150000\n",
      "Руководитель проектного офиса : зарплата до  160000\n",
      "Системный аналитик : зарплата до  160000\n",
      "Системный аналитик (чат-боты) : зарплата до  195000\n",
      "Начальник отдела проектного офиса (IT-компания) : зарплата до  200000\n",
      "Программист 1C : зарплата до  200000\n"
     ]
    }
   ],
   "source": [
    "salary = 100000\n",
    "db_vacancy_search(salary)"
   ]
  },
  {
   "cell_type": "code",
   "execution_count": 21,
   "metadata": {},
   "outputs": [
    {
     "name": "stdout",
     "output_type": "stream",
     "text": [
      "<pymongo.cursor.Cursor object at 0x119063438>\n"
     ]
    }
   ],
   "source": [
    "# Пока не получилость сделать проверку если не указана минимальная ЗП, а максимальная больше-равно заданной\n",
    "\n",
    "salary = 100000\n",
    "vacancy_db = client['vacancy']\n",
    "docs = vacancy_db.docs\n",
    "\n",
    "a = docs.find({ \"min_salary\": {}})\n",
    "\n",
    "#a = docs.find({ \"max_salary\": {'$gte':salary} and \"min_salary\": {'nan'}}).sort(\"max_salary\") \n",
    "print(a)\n",
    "for x in a:\n",
    "#    print(x)\n",
    "    print(*x['vacancy'], \": зарплата от \", *x['min_salary'], \" до \",*x['max_salary'])\n",
    "\n",
    "\n"
   ]
  },
  {
   "cell_type": "code",
   "execution_count": null,
   "metadata": {
    "scrolled": true
   },
   "outputs": [],
   "source": []
  },
  {
   "cell_type": "code",
   "execution_count": null,
   "metadata": {},
   "outputs": [],
   "source": [
    "#objects = docs.find()\n",
    "#pprint(objects)\n",
    "#for obj in objects:\n",
    "    \n",
    "#pprint(obj)"
   ]
  },
  {
   "cell_type": "code",
   "execution_count": null,
   "metadata": {},
   "outputs": [],
   "source": [
    "### пример\n",
    "\n",
    "import pandas as pd\n",
    "from pymongo import MongoClient\n",
    "\n",
    "\n",
    "def _connect_mongo(host, port, username, password, db):\n",
    "    \"\"\" A util for making a connection to mongo \"\"\"\n",
    "\n",
    "    if username and password:\n",
    "        mongo_uri = 'mongodb://%s:%s@%s:%s/%s' % (username, password, host, port, db)\n",
    "        conn = MongoClient(mongo_uri)\n",
    "    else:\n",
    "        conn = MongoClient(host, port)\n",
    "\n",
    "\n",
    "    return conn[db]\n",
    "\n",
    "def read_mongo(db, collection, query={}, host='localhost', port=27017, username=None, password=None, no_id=True):\n",
    "    \"\"\" Read from Mongo and Store into DataFrame \"\"\"\n",
    "\n",
    "    # Connect to MongoDB\n",
    "    db = _connect_mongo(host=host, port=port, username=username, password=password, db=db)\n",
    "\n",
    "    # Make a query to the specific DB and Collection\n",
    "    cursor = db[collection].find(query)\n",
    "\n",
    "    # Expand the cursor and construct the DataFrame\n",
    "    df =  pd.DataFrame(list(cursor))\n",
    "\n",
    "    # Delete the _id\n",
    "    if no_id:\n",
    "        del df['_id']\n",
    "\n",
    "    return df"
   ]
  }
 ],
 "metadata": {
  "kernelspec": {
   "display_name": "Python 3",
   "language": "python",
   "name": "python3"
  },
  "language_info": {
   "codemirror_mode": {
    "name": "ipython",
    "version": 3
   },
   "file_extension": ".py",
   "mimetype": "text/x-python",
   "name": "python",
   "nbconvert_exporter": "python",
   "pygments_lexer": "ipython3",
   "version": "3.7.3"
  }
 },
 "nbformat": 4,
 "nbformat_minor": 2
}
