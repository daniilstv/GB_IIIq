{
 "cells": [
  {
   "cell_type": "markdown",
   "metadata": {},
   "source": [
    "#### Урок 1. Основы клиент-серверного взаимодействия. Парсинг API"
   ]
  },
  {
   "cell_type": "markdown",
   "metadata": {},
   "source": [
    "1. Посмотреть документацию к API GitHub, разобраться как вывести список репозиториев для конкретного пользователя, сохранить JSON-вывод в файле *.json."
   ]
  },
  {
   "cell_type": "code",
   "execution_count": 3,
   "metadata": {},
   "outputs": [
    {
     "name": "stdout",
     "output_type": "stream",
     "text": [
      "https://api.github.com/users/daniilstv/repos\n",
      "GB_algorithms\n",
      "gb_db2\n",
      "GB_IIIq\n",
      "geek-2019-04-21\n",
      "git_test\n",
      "math\n",
      "py\n",
      "py4ds\n",
      "python_basic\n",
      "Python_lessons_basic\n",
      "StartupIdeas\n"
     ]
    }
   ],
   "source": [
    "import requests\n",
    "from pprint import pprint\n",
    "import json\n",
    "\n",
    "#username = input(\"Введите username\")\n",
    "username = \"daniilstv\"\n",
    "main_link = 'https://api.github.com'\n",
    "#auth=(username, input())\n",
    "\n",
    "print(f'{main_link}/users/{username}/repos')\n",
    "\n",
    "req = requests.get(f'{main_link}/users/{username}/repos')\n",
    "\n",
    "if req.ok:\n",
    "    data = req.json()\n",
    "    \n",
    "project_list = ''\n",
    "for i in range(0, len(data)):\n",
    "    print(data[i][\"name\"])\n",
    "    project_list += data[i][\"name\"]+\", \"   \n",
    "\n",
    "with open('github.json', \"w\") as file:\n",
    "    json.dump(data, file)\n",
    "    \n",
    "with open('project_list.csv', \"w\") as file:\n",
    "    file.write(project_list[:-2])\n",
    "\n",
    "    \n",
    "    #    pprint(data['name'])\n",
    "\n",
    "\n",
    "#with open('github.json', \"wb\") as file:\n",
    "#    file.write(req.json())"
   ]
  },
  {
   "cell_type": "code",
   "execution_count": 7,
   "metadata": {},
   "outputs": [
    {
     "name": "stdout",
     "output_type": "stream",
     "text": [
      "<_io.TextIOWrapper name='github.json' mode='r' encoding='UTF-8'>\n"
     ]
    }
   ],
   "source": [
    "file = open('github.json', 'r')\n",
    "pprint(file)"
   ]
  },
  {
   "cell_type": "code",
   "execution_count": null,
   "metadata": {},
   "outputs": [],
   "source": [
    "2. Изучить список открытых API. Найти среди них любое, требующее авторизацию (любого типа). Выполнить запросы к нему, пройдя авторизацию через curl, Postman, Python.Ответ сервера записать в файл (приложить скриншот для Postman и curl)."
   ]
  },
  {
   "cell_type": "code",
   "execution_count": null,
   "metadata": {},
   "outputs": [],
   "source": []
  },
  {
   "cell_type": "code",
   "execution_count": null,
   "metadata": {},
   "outputs": [],
   "source": []
  },
  {
   "cell_type": "code",
   "execution_count": 78,
   "metadata": {
    "scrolled": false
   },
   "outputs": [
    {
     "name": "stdout",
     "output_type": "stream",
     "text": [
      "GB_algorithms\n",
      "gb_db2\n",
      "GB_IIIq\n",
      "geek-2019-04-21\n",
      "git_test\n",
      "math\n",
      "py\n",
      "py4ds\n",
      "python_basic\n",
      "Python_lessons_basic\n",
      "StartupIdeas\n"
     ]
    }
   ],
   "source": [
    "project_list = ''\n",
    "for i in range(0, len(data)):\n",
    "    print(data[i][\"name\"])\n",
    "    project_list += data[i][\"name\"]+\", \"\n",
    "#    project_list += \", \"\n",
    "#d = (data[k][\"name\"] for k in range(0, len(data)))\n"
   ]
  },
  {
   "cell_type": "code",
   "execution_count": 79,
   "metadata": {},
   "outputs": [
    {
     "data": {
      "text/plain": [
       "'GB_algorithms, gb_db2, GB_IIIq, geek-2019-04-21, git_test, math, py, py4ds, python_basic, Python_lessons_basic, StartupIdeas'"
      ]
     },
     "execution_count": 79,
     "metadata": {},
     "output_type": "execute_result"
    }
   ],
   "source": [
    "project_list[:-2]"
   ]
  },
  {
   "cell_type": "code",
   "execution_count": 81,
   "metadata": {},
   "outputs": [],
   "source": [
    "with open('github.json', \"w\") as file:\n",
    "    file.write(project_list[:-2])"
   ]
  },
  {
   "cell_type": "code",
   "execution_count": null,
   "metadata": {},
   "outputs": [],
   "source": [
    "\"name\": \"gb_db2\",\n",
    "\"private\": false,\n",
    "    \n",
    "req = requests.get(f'{main_link}?q={city}&appid={appid}')"
   ]
  }
 ],
 "metadata": {
  "kernelspec": {
   "display_name": "Python 3",
   "language": "python",
   "name": "python3"
  },
  "language_info": {
   "codemirror_mode": {
    "name": "ipython",
    "version": 3
   },
   "file_extension": ".py",
   "mimetype": "text/x-python",
   "name": "python",
   "nbconvert_exporter": "python",
   "pygments_lexer": "ipython3",
   "version": "3.7.3"
  }
 },
 "nbformat": 4,
 "nbformat_minor": 2
}
