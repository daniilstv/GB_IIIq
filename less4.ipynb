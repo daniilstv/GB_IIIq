{
 "cells": [
  {
   "cell_type": "markdown",
   "metadata": {},
   "source": [
    "#### Урок 4. Парсинг HTML. XPath"
   ]
  },
  {
   "cell_type": "markdown",
   "metadata": {},
   "source": [
    "Написать приложение, которое собирает основные новости с сайтов mail.ru, lenta.ru.\n",
    "Для парсинга использовать xpath. Структура данных должна содержать:\n",
    "* название источника,\n",
    "* наименование новости,\n",
    "* ссылку на новость,\n",
    "* дата публикации"
   ]
  },
  {
   "cell_type": "code",
   "execution_count": 48,
   "metadata": {},
   "outputs": [],
   "source": [
    "from pprint import pprint\n",
    "from lxml import html\n",
    "import requests\n",
    "import pandas as pd\n",
    "import unicodedata"
   ]
  },
  {
   "cell_type": "code",
   "execution_count": 49,
   "metadata": {},
   "outputs": [
    {
     "name": "stdout",
     "output_type": "stream",
     "text": [
      "https://mail.ru/\n"
     ]
    }
   ],
   "source": [
    "#data = pd.DataFrame()\n",
    "\n",
    "main_link = ('https://mail.ru/')\n",
    "\n",
    "headers = {'user-agent': 'Mozilla/5.0 (iPhone; CPU iPhone OS 6_0 like Mac OS X) AppleWebKit/536.26 (KHTML, like Gecko) Version/6.0 Mobile/10A5376e Safari/8536.25'}\n",
    "\n",
    "url = main_link #+method+search_text\n",
    "print(url)\n",
    "session = requests.Session()\n",
    "\n",
    "req = session.get(url, headers=headers).text\n",
    "root = html.fromstring(req)\n"
   ]
  },
  {
   "cell_type": "code",
   "execution_count": 74,
   "metadata": {},
   "outputs": [
    {
     "name": "stdout",
     "output_type": "stream",
     "text": [
      "                                           news_href       news_source  \\\n",
      "0  [https://r.mail.ru/n313034487?&test_id=63&rnd=...  https://mail.ru/   \n",
      "1  [https://r.mail.ru/n313043231?&test_id=63&rnd=...  https://mail.ru/   \n",
      "2  [https://r.mail.ru/n313040384?&test_id=63&rnd=...  https://mail.ru/   \n",
      "3  [https://r.mail.ru/n313044095?&test_id=63&rnd=...  https://mail.ru/   \n",
      "4  [https://r.mail.ru/n313035018?&test_id=63&rnd=...  https://mail.ru/   \n",
      "\n",
      "                                          news_title  \n",
      "0  Путин наградил бортпроводницу, спасшую людей и...  \n",
      "1  Трамп назвал Зеленского «новым президентом Рос...  \n",
      "2  Украина назвала условия разведения сил в Донбассе  \n",
      "3  Евгений Малкин подтвердил наличие у него гражд...  \n",
      "4  Дочь годами писала сообщения покойному отцу и ...  \n"
     ]
    }
   ],
   "source": [
    "data = pd.DataFrame()\n",
    "\n",
    "news_source = main_link\n",
    "\n",
    "for i in range(1, 6):\n",
    "    name = i\n",
    "    news_title = root.xpath(\"string(//div[@id='news-0']//a[\" + str(name) + \"]//span[1]/text())\")\n",
    "    # news_title = ''.join(root.xpath(\"//div[@id='news-0']//a[1]//span[1]/text()\"))\n",
    "    # news_title = unicodedata.normalize(\"NFKD\", news_title)\n",
    "\n",
    "    news_href = root.xpath(\"/html[1]/body[1]/div[8]/a[\" + str(name) + \"]/@href\")\n",
    "    \n",
    "    data = data.append({'news_title':news_title, 'news_href':news_href, 'news_source':news_source}, ignore_index=True)\n",
    "print(data)"
   ]
  },
  {
   "cell_type": "code",
   "execution_count": 75,
   "metadata": {},
   "outputs": [
    {
     "data": {
      "text/html": [
       "<div>\n",
       "<style scoped>\n",
       "    .dataframe tbody tr th:only-of-type {\n",
       "        vertical-align: middle;\n",
       "    }\n",
       "\n",
       "    .dataframe tbody tr th {\n",
       "        vertical-align: top;\n",
       "    }\n",
       "\n",
       "    .dataframe thead th {\n",
       "        text-align: right;\n",
       "    }\n",
       "</style>\n",
       "<table border=\"1\" class=\"dataframe\">\n",
       "  <thead>\n",
       "    <tr style=\"text-align: right;\">\n",
       "      <th></th>\n",
       "      <th>news_href</th>\n",
       "      <th>news_source</th>\n",
       "      <th>news_title</th>\n",
       "    </tr>\n",
       "  </thead>\n",
       "  <tbody>\n",
       "    <tr>\n",
       "      <th>0</th>\n",
       "      <td>[https://r.mail.ru/n313034487?&amp;test_id=63&amp;rnd=...</td>\n",
       "      <td>https://mail.ru/</td>\n",
       "      <td>Путин наградил бортпроводницу, спасшую людей и...</td>\n",
       "    </tr>\n",
       "    <tr>\n",
       "      <th>1</th>\n",
       "      <td>[https://r.mail.ru/n313043231?&amp;test_id=63&amp;rnd=...</td>\n",
       "      <td>https://mail.ru/</td>\n",
       "      <td>Трамп назвал Зеленского «новым президентом Рос...</td>\n",
       "    </tr>\n",
       "    <tr>\n",
       "      <th>2</th>\n",
       "      <td>[https://r.mail.ru/n313040384?&amp;test_id=63&amp;rnd=...</td>\n",
       "      <td>https://mail.ru/</td>\n",
       "      <td>Украина назвала условия разведения сил в Донбассе</td>\n",
       "    </tr>\n",
       "    <tr>\n",
       "      <th>3</th>\n",
       "      <td>[https://r.mail.ru/n313044095?&amp;test_id=63&amp;rnd=...</td>\n",
       "      <td>https://mail.ru/</td>\n",
       "      <td>Евгений Малкин подтвердил наличие у него гражд...</td>\n",
       "    </tr>\n",
       "    <tr>\n",
       "      <th>4</th>\n",
       "      <td>[https://r.mail.ru/n313035018?&amp;test_id=63&amp;rnd=...</td>\n",
       "      <td>https://mail.ru/</td>\n",
       "      <td>Дочь годами писала сообщения покойному отцу и ...</td>\n",
       "    </tr>\n",
       "  </tbody>\n",
       "</table>\n",
       "</div>"
      ],
      "text/plain": [
       "                                           news_href       news_source  \\\n",
       "0  [https://r.mail.ru/n313034487?&test_id=63&rnd=...  https://mail.ru/   \n",
       "1  [https://r.mail.ru/n313043231?&test_id=63&rnd=...  https://mail.ru/   \n",
       "2  [https://r.mail.ru/n313040384?&test_id=63&rnd=...  https://mail.ru/   \n",
       "3  [https://r.mail.ru/n313044095?&test_id=63&rnd=...  https://mail.ru/   \n",
       "4  [https://r.mail.ru/n313035018?&test_id=63&rnd=...  https://mail.ru/   \n",
       "\n",
       "                                          news_title  \n",
       "0  Путин наградил бортпроводницу, спасшую людей и...  \n",
       "1  Трамп назвал Зеленского «новым президентом Рос...  \n",
       "2  Украина назвала условия разведения сил в Донбассе  \n",
       "3  Евгений Малкин подтвердил наличие у него гражд...  \n",
       "4  Дочь годами писала сообщения покойному отцу и ...  "
      ]
     },
     "execution_count": 75,
     "metadata": {},
     "output_type": "execute_result"
    }
   ],
   "source": [
    "data"
   ]
  },
  {
   "cell_type": "code",
   "execution_count": 77,
   "metadata": {},
   "outputs": [],
   "source": [
    "data_tmp = data"
   ]
  },
  {
   "cell_type": "code",
   "execution_count": 76,
   "metadata": {},
   "outputs": [
    {
     "name": "stdout",
     "output_type": "stream",
     "text": [
      "https://yandex.ru/\n"
     ]
    }
   ],
   "source": [
    "main_link = ('https://yandex.ru/')\n",
    "\n",
    "headers = {'user-agent': 'Mozilla/5.0 (iPhone; CPU iPhone OS 6_0 like Mac OS X) AppleWebKit/536.26 (KHTML, like Gecko) Version/6.0 Mobile/10A5376e Safari/8536.25'}\n",
    "\n",
    "url = main_link #+method+search_text\n",
    "print(url)\n",
    "session = requests.Session()\n",
    "\n",
    "req = session.get(url, headers=headers).text\n",
    "root = html.fromstring(req)"
   ]
  },
  {
   "cell_type": "code",
   "execution_count": 81,
   "metadata": {},
   "outputs": [
    {
     "name": "stdout",
     "output_type": "stream",
     "text": [
      "  news_href         news_source news_title\n",
      "0        []  https://yandex.ru/       [[]]\n"
     ]
    }
   ],
   "source": [
    "news_source = main_link\n",
    "data_tmp = pd.DataFrame()\n",
    "#for i in range(1, 6):\n",
    "#    name = i\n",
    "news_title = root.xpath(\"//div[contains(@class,'news__item-content')][contains(text(),':')]\")\n",
    "# news_title = ''.join(root.xpath(\"//div[@id='news-0']//a[1]//span[1]/text()\"))\n",
    "# news_title = unicodedata.normalize(\"NFKD\", news_title)\n",
    "\n",
    "news_href = root.xpath(\"//div[@class='news swiper_saved_yes block i-bem swiper swiper_multiple-tabs_yes swiper_js_inited']//div[@class='swiper__pages']//a[1]\")\n",
    "\n",
    "data_tmp = data_tmp.append({'news_title':news_title, 'news_href':news_href, 'news_source':news_source}, ignore_index=True)\n",
    "print(data_tmp)"
   ]
  },
  {
   "cell_type": "code",
   "execution_count": null,
   "metadata": {},
   "outputs": [],
   "source": [
    "news_title\n",
    "news_href\n",
    "news_source = main_link\n",
    "news_date\n",
    "data = data.append({'news_title':[news_title], 'news_href':[news_href], \n",
    "                    'news_source':[main_link], 'news_date':[news_date]}, ignore_index=True)"
   ]
  },
  {
   "cell_type": "code",
   "execution_count": null,
   "metadata": {},
   "outputs": [],
   "source": []
  },
  {
   "cell_type": "code",
   "execution_count": null,
   "metadata": {},
   "outputs": [],
   "source": []
  },
  {
   "cell_type": "code",
   "execution_count": 16,
   "metadata": {},
   "outputs": [
    {
     "name": "stdout",
     "output_type": "stream",
     "text": [
      "<Element html at 0x10f236688>\n"
     ]
    }
   ],
   "source": [
    "result_list = root.xpath(\"//a[contains(@class,'link_cropped_no')]/@href | \"\n",
    "                         \"//a[contains(@class,'organic__url_type_multiline')]/@href\")\n",
    "if result_list:\n",
    "    for i in result_list:\n",
    "        print(i)\n",
    "\n",
    "\n",
    "requests_to_yandex('Суши')\n",
    "\n"
   ]
  },
  {
   "cell_type": "code",
   "execution_count": null,
   "metadata": {},
   "outputs": [],
   "source": [
    "url = main_link+method+search_text\n",
    "print(main_link+method+search_text)"
   ]
  },
  {
   "cell_type": "code",
   "execution_count": null,
   "metadata": {},
   "outputs": [],
   "source": [
    "header = {'user-agent':'Mozilla/5.0 (Windows NT 10.0; Win64; x64) '\n",
    "                       'AppleWebKit/537.36 (KHTML, like Gecko) Chrome/77.0.3865.120 Safari/537.36'}\n",
    "\n",
    "def requests_to_yandex(str):\n",
    "    req = requests.get('https://yandex.ru/search/',\n",
    "                            params={'text':str},\n",
    "                            headers=header)\n",
    "    root = html.fromstring(req.text)\n",
    "    result_list = root.xpath(\"//a[contains(@class,'link_cropped_no')]/@href | \"\n",
    "                             \"//a[contains(@class,'organic__url_type_multiline')]/@href\")\n",
    "    if result_list:\n",
    "        for i in result_list:\n",
    "            print(i)\n",
    "    else:\n",
    "        print(f'{str} not found')\n",
    "\n",
    "requests_to_yandex('Суши')"
   ]
  }
 ],
 "metadata": {
  "kernelspec": {
   "display_name": "Python 3",
   "language": "python",
   "name": "python3"
  },
  "language_info": {
   "codemirror_mode": {
    "name": "ipython",
    "version": 3
   },
   "file_extension": ".py",
   "mimetype": "text/x-python",
   "name": "python",
   "nbconvert_exporter": "python",
   "pygments_lexer": "ipython3",
   "version": "3.7.3"
  }
 },
 "nbformat": 4,
 "nbformat_minor": 2
}
