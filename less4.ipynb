{
 "cells": [
  {
   "cell_type": "markdown",
   "metadata": {},
   "source": [
    "#### Урок 4. Парсинг HTML. XPath"
   ]
  },
  {
   "cell_type": "markdown",
   "metadata": {},
   "source": [
    "Написать приложение, которое собирает основные новости с сайтов mail.ru, lenta.ru.\n",
    "Для парсинга использовать xpath. Структура данных должна содержать:\n",
    "* название источника,\n",
    "* наименование новости,\n",
    "* ссылку на новость,\n",
    "* дата публикации"
   ]
  },
  {
   "cell_type": "code",
   "execution_count": 2,
   "metadata": {},
   "outputs": [],
   "source": [
    "from pprint import pprint\n",
    "from lxml import html\n",
    "import requests\n",
    "import pandas as pd\n",
    "import unicodedata"
   ]
  },
  {
   "cell_type": "code",
   "execution_count": 74,
   "metadata": {},
   "outputs": [
    {
     "name": "stdout",
     "output_type": "stream",
     "text": [
      "https://mail.ru/\n"
     ]
    }
   ],
   "source": [
    "#data = pd.DataFrame()\n",
    "\n",
    "main_link = ('https://mail.ru/')\n",
    "\n",
    "headers = {'user-agent': 'Mozilla/5.0 (iPhone; CPU iPhone OS 6_0 like Mac OS X) AppleWebKit/536.26 (KHTML, like Gecko) Version/6.0 Mobile/10A5376e Safari/8536.25'}\n",
    "\n",
    "url = main_link #+method+search_text\n",
    "print(url)\n",
    "session = requests.Session()\n",
    "\n",
    "req = session.get(url, headers=headers).text\n",
    "root = html.fromstring(req)\n"
   ]
  },
  {
   "cell_type": "code",
   "execution_count": 75,
   "metadata": {},
   "outputs": [
    {
     "name": "stdout",
     "output_type": "stream",
     "text": [
      "                                           news_href       news_source  \\\n",
      "0  [https://r.mail.ru/n313112582?&test_id=63&rnd=...  https://mail.ru/   \n",
      "1  [https://r.mail.ru/n313117455?&test_id=63&rnd=...  https://mail.ru/   \n",
      "2  [https://r.mail.ru/n313099419?&test_id=63&rnd=...  https://mail.ru/   \n",
      "3  [https://r.mail.ru/n313092052?&test_id=63&rnd=...  https://mail.ru/   \n",
      "4  [https://r.mail.ru/n313104517?&test_id=63&rnd=...  https://mail.ru/   \n",
      "\n",
      "                                          news_title  \n",
      "0  Гарантированный пенсионный план: как работает ...  \n",
      "1  Стало известно о проблемах у расстрелявшего во...  \n",
      "2  Совхоз им. Ленина отсудил у Грудинина более ми...  \n",
      "3  В России вступили в силу налоговые льготы для ...  \n",
      "4  Тест: Сможете ответить на вопросы географическ...  \n"
     ]
    }
   ],
   "source": [
    "data = pd.DataFrame()\n",
    "\n",
    "news_source = main_link\n",
    "\n",
    "for i in range(1, 6):\n",
    "    name = i\n",
    "    news_title = root.xpath(\"string(//div[@id='news-0']//a[\" + str(name) + \"]//span[1]/text())\")\n",
    "    # news_title = ''.join(root.xpath(\"//div[@id='news-0']//a[1]//span[1]/text()\"))\n",
    "    # news_title = unicodedata.normalize(\"NFKD\", news_title)\n",
    "\n",
    "    news_href = root.xpath(\"/html[1]/body[1]/div[8]/a[\" + str(name) + \"]/@href\")\n",
    "    \n",
    "    data = data.append({'news_title':news_title, 'news_href':news_href, 'news_source':news_source}, ignore_index=True)\n",
    "print(data)"
   ]
  },
  {
   "cell_type": "code",
   "execution_count": 76,
   "metadata": {},
   "outputs": [
    {
     "data": {
      "text/html": [
       "<div>\n",
       "<style scoped>\n",
       "    .dataframe tbody tr th:only-of-type {\n",
       "        vertical-align: middle;\n",
       "    }\n",
       "\n",
       "    .dataframe tbody tr th {\n",
       "        vertical-align: top;\n",
       "    }\n",
       "\n",
       "    .dataframe thead th {\n",
       "        text-align: right;\n",
       "    }\n",
       "</style>\n",
       "<table border=\"1\" class=\"dataframe\">\n",
       "  <thead>\n",
       "    <tr style=\"text-align: right;\">\n",
       "      <th></th>\n",
       "      <th>news_href</th>\n",
       "      <th>news_source</th>\n",
       "      <th>news_title</th>\n",
       "    </tr>\n",
       "  </thead>\n",
       "  <tbody>\n",
       "    <tr>\n",
       "      <th>0</th>\n",
       "      <td>[https://r.mail.ru/n313112582?&amp;test_id=63&amp;rnd=...</td>\n",
       "      <td>https://mail.ru/</td>\n",
       "      <td>Гарантированный пенсионный план: как работает ...</td>\n",
       "    </tr>\n",
       "    <tr>\n",
       "      <th>1</th>\n",
       "      <td>[https://r.mail.ru/n313117455?&amp;test_id=63&amp;rnd=...</td>\n",
       "      <td>https://mail.ru/</td>\n",
       "      <td>Стало известно о проблемах у расстрелявшего во...</td>\n",
       "    </tr>\n",
       "    <tr>\n",
       "      <th>2</th>\n",
       "      <td>[https://r.mail.ru/n313099419?&amp;test_id=63&amp;rnd=...</td>\n",
       "      <td>https://mail.ru/</td>\n",
       "      <td>Совхоз им. Ленина отсудил у Грудинина более ми...</td>\n",
       "    </tr>\n",
       "    <tr>\n",
       "      <th>3</th>\n",
       "      <td>[https://r.mail.ru/n313092052?&amp;test_id=63&amp;rnd=...</td>\n",
       "      <td>https://mail.ru/</td>\n",
       "      <td>В России вступили в силу налоговые льготы для ...</td>\n",
       "    </tr>\n",
       "    <tr>\n",
       "      <th>4</th>\n",
       "      <td>[https://r.mail.ru/n313104517?&amp;test_id=63&amp;rnd=...</td>\n",
       "      <td>https://mail.ru/</td>\n",
       "      <td>Тест: Сможете ответить на вопросы географическ...</td>\n",
       "    </tr>\n",
       "  </tbody>\n",
       "</table>\n",
       "</div>"
      ],
      "text/plain": [
       "                                           news_href       news_source  \\\n",
       "0  [https://r.mail.ru/n313112582?&test_id=63&rnd=...  https://mail.ru/   \n",
       "1  [https://r.mail.ru/n313117455?&test_id=63&rnd=...  https://mail.ru/   \n",
       "2  [https://r.mail.ru/n313099419?&test_id=63&rnd=...  https://mail.ru/   \n",
       "3  [https://r.mail.ru/n313092052?&test_id=63&rnd=...  https://mail.ru/   \n",
       "4  [https://r.mail.ru/n313104517?&test_id=63&rnd=...  https://mail.ru/   \n",
       "\n",
       "                                          news_title  \n",
       "0  Гарантированный пенсионный план: как работает ...  \n",
       "1  Стало известно о проблемах у расстрелявшего во...  \n",
       "2  Совхоз им. Ленина отсудил у Грудинина более ми...  \n",
       "3  В России вступили в силу налоговые льготы для ...  \n",
       "4  Тест: Сможете ответить на вопросы географическ...  "
      ]
     },
     "execution_count": 76,
     "metadata": {},
     "output_type": "execute_result"
    }
   ],
   "source": [
    "data"
   ]
  },
  {
   "cell_type": "code",
   "execution_count": 6,
   "metadata": {},
   "outputs": [],
   "source": [
    "data_tmp = data"
   ]
  },
  {
   "cell_type": "code",
   "execution_count": 95,
   "metadata": {},
   "outputs": [
    {
     "name": "stdout",
     "output_type": "stream",
     "text": [
      "https://yandex.ru/\n"
     ]
    }
   ],
   "source": [
    "main_link = ('https://yandex.ru/')\n",
    "\n",
    "headers = {'user-agent': 'Mozilla/5.0 (iPhone; CPU iPhone OS 6_0 like Mac OS X) AppleWebKit/536.26 (KHTML, like Gecko) Version/6.0 Mobile/10A5376e Safari/8536.25'}\n",
    "\n",
    "url = main_link #+method+search_text\n",
    "print(url)\n",
    "session = requests.Session()\n",
    "\n",
    "req = session.get(url, headers=headers).text\n",
    "root = html.fromstring(req)"
   ]
  },
  {
   "cell_type": "code",
   "execution_count": 100,
   "metadata": {},
   "outputs": [
    {
     "name": "stdout",
     "output_type": "stream",
     "text": [
      "                                          news_title  \\\n",
      "0  Названы причины расстрела солдат сослуживцем в...   \n",
      "1  Активисты в Киеве устроили митинг против разве...   \n",
      "2  Преподаватель ВШЭ оправдался за слова об убого...   \n",
      "3            Суд взыскал с Грудинина 1,1 млрд рублей   \n",
      "4  Минфин и ЦБ представили новую систему пенсионн...   \n",
      "\n",
      "                                           news_href  \n",
      "0  https://yandex.ru/news/story/Nazvany_prichiny_...  \n",
      "1  https://yandex.ru/news/story/Aktivisty_v_Kieve...  \n",
      "2  https://yandex.ru/news/story/Prepodavatel_VSHE...  \n",
      "3  https://yandex.ru/news/story/Sud_vzyskal_s_Gru...  \n",
      "4  https://yandex.ru/news/story/Minfin_i_CB_preds...  \n"
     ]
    }
   ],
   "source": [
    "news_source = main_link\n",
    "data_tmp = pd.DataFrame()\n",
    "#for i in range(1, 6):\n",
    "#    name = i\n",
    "news_title = root.xpath(\"//div[contains(@class,'news__item-content')][contains(text(),':')]\")\n",
    "# news_title = ''.join(root.xpath(\"//div[@id='news-0']//a[1]//span[1]/text()\"))\n",
    "# news_title = unicodedata.normalize(\"NFKD\", news_title)\n",
    "\n",
    "news_title = root.xpath(\"//a[@class='home-link news__item swiper__item listview__item']/div[1]/div[1]/div[1]/text()\")\n",
    "a = pd.Series(news_title)\n",
    "\n",
    "news_href = root.xpath(\"//a[@class='home-link news__item swiper__item listview__item']/@href\")\n",
    "b = pd.Series(news_href)\n",
    "\n",
    "\n",
    "z = list(zip(a, b))\n",
    "data_tmp = pd.DataFrame(z,columns = ['news_title', 'news_href'])\n",
    "#data_tmp = data_tmp({'news_title':[a], 'news_href':[b], 'news_source':news_source}) #, ignore_index=True)\n",
    "data_tmp\n",
    "print(data_tmp)\n"
   ]
  },
  {
   "cell_type": "code",
   "execution_count": null,
   "metadata": {},
   "outputs": [],
   "source": [
    "-----"
   ]
  },
  {
   "cell_type": "code",
   "execution_count": null,
   "metadata": {},
   "outputs": [],
   "source": [
    "news_title\n",
    "news_href\n",
    "news_source = main_link\n",
    "news_date\n",
    "data = data.append({'news_title':[news_title], 'news_href':[news_href], \n",
    "                    'news_source':[main_link], 'news_date':[news_date]}, ignore_index=True)"
   ]
  },
  {
   "cell_type": "code",
   "execution_count": 101,
   "metadata": {},
   "outputs": [
    {
     "data": {
      "text/html": [
       "<div>\n",
       "<style scoped>\n",
       "    .dataframe tbody tr th:only-of-type {\n",
       "        vertical-align: middle;\n",
       "    }\n",
       "\n",
       "    .dataframe tbody tr th {\n",
       "        vertical-align: top;\n",
       "    }\n",
       "\n",
       "    .dataframe thead th {\n",
       "        text-align: right;\n",
       "    }\n",
       "</style>\n",
       "<table border=\"1\" class=\"dataframe\">\n",
       "  <thead>\n",
       "    <tr style=\"text-align: right;\">\n",
       "      <th></th>\n",
       "      <th>news_title</th>\n",
       "      <th>news_href</th>\n",
       "    </tr>\n",
       "  </thead>\n",
       "  <tbody>\n",
       "    <tr>\n",
       "      <th>0</th>\n",
       "      <td>Названы причины расстрела солдат сослуживцем в...</td>\n",
       "      <td>https://yandex.ru/news/story/Nazvany_prichiny_...</td>\n",
       "    </tr>\n",
       "    <tr>\n",
       "      <th>1</th>\n",
       "      <td>Активисты в Киеве устроили митинг против разве...</td>\n",
       "      <td>https://yandex.ru/news/story/Aktivisty_v_Kieve...</td>\n",
       "    </tr>\n",
       "    <tr>\n",
       "      <th>2</th>\n",
       "      <td>Преподаватель ВШЭ оправдался за слова об убого...</td>\n",
       "      <td>https://yandex.ru/news/story/Prepodavatel_VSHE...</td>\n",
       "    </tr>\n",
       "    <tr>\n",
       "      <th>3</th>\n",
       "      <td>Суд взыскал с Грудинина 1,1 млрд рублей</td>\n",
       "      <td>https://yandex.ru/news/story/Sud_vzyskal_s_Gru...</td>\n",
       "    </tr>\n",
       "    <tr>\n",
       "      <th>4</th>\n",
       "      <td>Минфин и ЦБ представили новую систему пенсионн...</td>\n",
       "      <td>https://yandex.ru/news/story/Minfin_i_CB_preds...</td>\n",
       "    </tr>\n",
       "  </tbody>\n",
       "</table>\n",
       "</div>"
      ],
      "text/plain": [
       "                                          news_title  \\\n",
       "0  Названы причины расстрела солдат сослуживцем в...   \n",
       "1  Активисты в Киеве устроили митинг против разве...   \n",
       "2  Преподаватель ВШЭ оправдался за слова об убого...   \n",
       "3            Суд взыскал с Грудинина 1,1 млрд рублей   \n",
       "4  Минфин и ЦБ представили новую систему пенсионн...   \n",
       "\n",
       "                                           news_href  \n",
       "0  https://yandex.ru/news/story/Nazvany_prichiny_...  \n",
       "1  https://yandex.ru/news/story/Aktivisty_v_Kieve...  \n",
       "2  https://yandex.ru/news/story/Prepodavatel_VSHE...  \n",
       "3  https://yandex.ru/news/story/Sud_vzyskal_s_Gru...  \n",
       "4  https://yandex.ru/news/story/Minfin_i_CB_preds...  "
      ]
     },
     "execution_count": 101,
     "metadata": {},
     "output_type": "execute_result"
    }
   ],
   "source": [
    "data_tmp"
   ]
  },
  {
   "cell_type": "code",
   "execution_count": 66,
   "metadata": {
    "scrolled": false
   },
   "outputs": [
    {
     "data": {
      "text/html": [
       "<div>\n",
       "<style scoped>\n",
       "    .dataframe tbody tr th:only-of-type {\n",
       "        vertical-align: middle;\n",
       "    }\n",
       "\n",
       "    .dataframe tbody tr th {\n",
       "        vertical-align: top;\n",
       "    }\n",
       "\n",
       "    .dataframe thead th {\n",
       "        text-align: right;\n",
       "    }\n",
       "</style>\n",
       "<table border=\"1\" class=\"dataframe\">\n",
       "  <thead>\n",
       "    <tr style=\"text-align: right;\">\n",
       "      <th></th>\n",
       "      <th>news_title</th>\n",
       "      <th>news_href</th>\n",
       "    </tr>\n",
       "  </thead>\n",
       "  <tbody>\n",
       "    <tr>\n",
       "      <th>0</th>\n",
       "      <td>У офиса Зеленского начался митинг против разве...</td>\n",
       "      <td>https://yandex.ru/news/story/U_ofisa_Zelenskog...</td>\n",
       "    </tr>\n",
       "    <tr>\n",
       "      <th>1</th>\n",
       "      <td>В ярославском детском саду воспитанники избили...</td>\n",
       "      <td>https://yandex.ru/news/story/V_yaroslavskom_de...</td>\n",
       "    </tr>\n",
       "    <tr>\n",
       "      <th>2</th>\n",
       "      <td>Профессор-филолог из ВШЭ оправдался за слова о...</td>\n",
       "      <td>https://yandex.ru/news/story/Professor-filolog...</td>\n",
       "    </tr>\n",
       "    <tr>\n",
       "      <th>3</th>\n",
       "      <td>Суд взыскал с Грудинина более 1 млрд рублей</td>\n",
       "      <td>https://yandex.ru/news/story/Sud_vzyskal_s_Gru...</td>\n",
       "    </tr>\n",
       "    <tr>\n",
       "      <th>4</th>\n",
       "      <td>Минфин и ЦБ представили новую систему пенсионн...</td>\n",
       "      <td>https://yandex.ru/news/story/Minfin_i_CB_preds...</td>\n",
       "    </tr>\n",
       "  </tbody>\n",
       "</table>\n",
       "</div>"
      ],
      "text/plain": [
       "                                          news_title  \\\n",
       "0  У офиса Зеленского начался митинг против разве...   \n",
       "1  В ярославском детском саду воспитанники избили...   \n",
       "2  Профессор-филолог из ВШЭ оправдался за слова о...   \n",
       "3        Суд взыскал с Грудинина более 1 млрд рублей   \n",
       "4  Минфин и ЦБ представили новую систему пенсионн...   \n",
       "\n",
       "                                           news_href  \n",
       "0  https://yandex.ru/news/story/U_ofisa_Zelenskog...  \n",
       "1  https://yandex.ru/news/story/V_yaroslavskom_de...  \n",
       "2  https://yandex.ru/news/story/Professor-filolog...  \n",
       "3  https://yandex.ru/news/story/Sud_vzyskal_s_Gru...  \n",
       "4  https://yandex.ru/news/story/Minfin_i_CB_preds...  "
      ]
     },
     "execution_count": 66,
     "metadata": {},
     "output_type": "execute_result"
    }
   ],
   "source": [
    "#data_tmp = data_tmp({'news_title':[a], 'news_href':[b], 'news_source':news_source}) #, ignore_index=True)\n",
    "z = list(zip(a, b))\n",
    "pd.DataFrame(z,columns = ['news_title', 'news_href'])\n",
    "#data_tmp = data_tmp(z, columns = ['Name', 'Age'])"
   ]
  },
  {
   "cell_type": "code",
   "execution_count": 51,
   "metadata": {},
   "outputs": [
    {
     "ename": "NameError",
     "evalue": "name 'requests_to_yandex' is not defined",
     "output_type": "error",
     "traceback": [
      "\u001b[0;31m---------------------------------------------------------------------------\u001b[0m",
      "\u001b[0;31mNameError\u001b[0m                                 Traceback (most recent call last)",
      "\u001b[0;32m<ipython-input-51-96bfafa1c471>\u001b[0m in \u001b[0;36m<module>\u001b[0;34m\u001b[0m\n\u001b[1;32m      6\u001b[0m \u001b[0;34m\u001b[0m\u001b[0m\n\u001b[1;32m      7\u001b[0m \u001b[0;34m\u001b[0m\u001b[0m\n\u001b[0;32m----> 8\u001b[0;31m \u001b[0mrequests_to_yandex\u001b[0m\u001b[0;34m(\u001b[0m\u001b[0;34m'Суши'\u001b[0m\u001b[0;34m)\u001b[0m\u001b[0;34m\u001b[0m\u001b[0;34m\u001b[0m\u001b[0m\n\u001b[0m\u001b[1;32m      9\u001b[0m \u001b[0;34m\u001b[0m\u001b[0m\n",
      "\u001b[0;31mNameError\u001b[0m: name 'requests_to_yandex' is not defined"
     ]
    }
   ],
   "source": [
    "result_list = root.xpath(\"//a[contains(@class,'link_cropped_no')]/@href | \"\n",
    "                         \"//a[contains(@class,'organic__url_type_multiline')]/@href\")\n",
    "if result_list:\n",
    "    for i in result_list:\n",
    "        print(i)\n",
    "\n",
    "\n",
    "requests_to_yandex('Суши')\n",
    "\n"
   ]
  },
  {
   "cell_type": "code",
   "execution_count": null,
   "metadata": {},
   "outputs": [],
   "source": [
    "url = main_link+method+search_text\n",
    "print(main_link+method+search_text)"
   ]
  },
  {
   "cell_type": "code",
   "execution_count": null,
   "metadata": {},
   "outputs": [],
   "source": [
    "header = {'user-agent':'Mozilla/5.0 (Windows NT 10.0; Win64; x64) '\n",
    "                       'AppleWebKit/537.36 (KHTML, like Gecko) Chrome/77.0.3865.120 Safari/537.36'}\n",
    "\n",
    "def requests_to_yandex(str):\n",
    "    req = requests.get('https://yandex.ru/search/',\n",
    "                            params={'text':str},\n",
    "                            headers=header)\n",
    "    root = html.fromstring(req.text)\n",
    "    result_list = root.xpath(\"//a[contains(@class,'link_cropped_no')]/@href | \"\n",
    "                             \"//a[contains(@class,'organic__url_type_multiline')]/@href\")\n",
    "    if result_list:\n",
    "        for i in result_list:\n",
    "            print(i)\n",
    "    else:\n",
    "        print(f'{str} not found')\n",
    "\n",
    "requests_to_yandex('Суши')"
   ]
  }
 ],
 "metadata": {
  "kernelspec": {
   "display_name": "Python 3",
   "language": "python",
   "name": "python3"
  }
 },
 "nbformat": 4,
 "nbformat_minor": 2
}
