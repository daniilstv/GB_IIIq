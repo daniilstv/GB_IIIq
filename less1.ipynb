{
 "cells": [
  {
   "cell_type": "markdown",
   "metadata": {},
   "source": [
    "#### Урок 1. Основы клиент-серверного взаимодействия. Парсинг API"
   ]
  },
  {
   "cell_type": "markdown",
   "metadata": {},
   "source": [
    "1. Посмотреть документацию к API GitHub, разобраться как вывести список репозиториев для конкретного пользователя, сохранить JSON-вывод в файле *.json."
   ]
  },
  {
   "cell_type": "code",
   "execution_count": 30,
   "metadata": {},
   "outputs": [],
   "source": [
    "import requests\n",
    "from pprint import pprint\n",
    "import json"
   ]
  },
  {
   "cell_type": "code",
   "execution_count": 31,
   "metadata": {},
   "outputs": [
    {
     "name": "stdout",
     "output_type": "stream",
     "text": [
      "https://api.github.com/users/daniilstv/repos\n",
      "GB_algorithms\n",
      "gb_db2\n",
      "GB_IIIq\n",
      "geek-2019-04-21\n",
      "git_test\n",
      "math\n",
      "py\n",
      "py4ds\n",
      "python_basic\n",
      "Python_lessons_basic\n",
      "StartupIdeas\n"
     ]
    }
   ],
   "source": [
    "\n",
    "\n",
    "#username = input(\"Введите username\")\n",
    "username = \"daniilstv\"\n",
    "main_link = 'https://api.github.com'\n",
    "#auth=(username, input())\n",
    "\n",
    "print(f'{main_link}/users/{username}/repos')\n",
    "\n",
    "req = requests.get(f'{main_link}/users/{username}/repos')\n",
    "\n",
    "if req.ok:\n",
    "    data = req.json()\n",
    "    \n",
    "project_list = ''\n",
    "for i in range(0, len(data)):\n",
    "    print(data[i][\"name\"])\n",
    "    project_list += data[i][\"name\"]+\", \"   \n",
    "\n",
    "with open('github.json', \"w\") as file:\n",
    "    json.dump(data, file)\n",
    "    \n",
    "with open('project_list.csv', \"w\") as file:\n",
    "    file.write(project_list[:-2])\n",
    "\n",
    "    \n",
    "    #    pprint(data['name'])\n",
    "\n",
    "\n",
    "#with open('github.json', \"wb\") as file:\n",
    "#    file.write(req.json())"
   ]
  },
  {
   "cell_type": "code",
   "execution_count": 32,
   "metadata": {},
   "outputs": [
    {
     "name": "stdout",
     "output_type": "stream",
     "text": [
      "('[{\"id\": 181137461, \"node_id\": \"MDEwOlJlcG9zaXRvcnkxODExMzc0NjE=\", \"name\": '\n",
      " '\"GB_algorithms\", \"full_name\": \"daniilstv/GB_algorithms\", \"private\": false, '\n",
      " '\"owner\": {\"login\": \"daniilstv\", \"id\": 30858313, \"node_id\": '\n",
      " '\"MDQ6VXNlcjMwODU4MzEz\", \"avatar_url\": '\n",
      " '\"https://avatars2.githubusercontent.com/u/30858313?v=4\", \"gravatar_id\": \"\", '\n",
      " '\"url\": \"https://api.github.com/users/daniilstv\", \"html_url\": '\n",
      " '\"https://github.com/daniilstv\", \"followers_url\": '\n",
      " '\"https://api.github.com/users/daniilstv/followers\", \"following_url\":')\n",
      "\n",
      " GB_algorithms, gb_db2, GB_IIIq, geek-2019-04-21, git_test, math, py, py4ds, python_basic, Python_lessons_basic, StartupIdeas\n"
     ]
    }
   ],
   "source": [
    "file = open('github.json', 'r')\n",
    "pprint(file.read(500))\n",
    "\n",
    "print(\"\\n\", open('project_list.csv', 'r').read(500))"
   ]
  },
  {
   "cell_type": "code",
   "execution_count": null,
   "metadata": {},
   "outputs": [],
   "source": []
  },
  {
   "cell_type": "markdown",
   "metadata": {},
   "source": [
    "2. Изучить список открытых API. Найти среди них любое, требующее авторизацию (любого типа). Выполнить запросы к нему, пройдя авторизацию через curl, Postman, Python.Ответ сервера записать в файл (приложить скриншот для Postman и curl)."
   ]
  },
  {
   "cell_type": "markdown",
   "metadata": {},
   "source": [
    "https://api.telegram.org/bot742479489:AAHyiWhsgG4Z7ZICtZde-Mr34Y9bDoo1_kU/getUpdates\n",
    "![curl](curl.png \"curl -v https://api.telegram.org/bot742479489:AAHyiWhsgG4Z7ZICtZde-Mr34Y9bDoo1_kU/getUpdates\")"
   ]
  },
  {
   "cell_type": "markdown",
   "metadata": {},
   "source": [
    "![postman](postman.png \"postman\")"
   ]
  },
  {
   "cell_type": "code",
   "execution_count": null,
   "metadata": {},
   "outputs": [],
   "source": []
  },
  {
   "cell_type": "code",
   "execution_count": 109,
   "metadata": {},
   "outputs": [
    {
     "name": "stdout",
     "output_type": "stream",
     "text": [
      "https://api.telegram.org/bot742479489:AAHyiWhsgG4Z7ZICtZde-Mr34Y9bDoo1_kUgetUpdates\n",
      "code 200\n"
     ]
    }
   ],
   "source": [
    "main_link = 'https://api.telegram.org/bot'\n",
    "token = \"742479489:AAHyiWhsgG4Z7ZICtZde-Mr34Y9bDoo1_kU\"\n",
    "method = \"getUpdates\"\n",
    "\n",
    "print(f'{main_link}{token}{method}')\n",
    "\n",
    "req = requests.get(f'{main_link}{token}/{method}')\n",
    "\n",
    "if req.ok:\n",
    "    print(\"code 200\")\n",
    "    data = req.json()\n",
    "    \n",
    "with open('telegram_getUpdates.json', \"w\") as file:\n",
    "    json.dump(data, file)"
   ]
  },
  {
   "cell_type": "code",
   "execution_count": 110,
   "metadata": {},
   "outputs": [
    {
     "name": "stdout",
     "output_type": "stream",
     "text": [
      "('{\"ok\": true, \"result\": [{\"update_id\": 336077591, \"message\": {\"message_id\": '\n",
      " '3, \"from\": {\"id\": 61157288, \"is_bot\": false, \"first_name\": \"Daniil\", '\n",
      " '\"last_name\": \"Dyachenko\", \"username\": \"daniilstv\", \"language_code\": \"ru\"}, '\n",
      " '\"chat\": {\"id\": 61157288, \"first_name\": \"Daniil\", \"last_name\": \"Dyachenko\", '\n",
      " '\"username\": \"daniilstv\", \"type\": \"private\"}, \"date\": 1571473339, \"text\": '\n",
      " '\"test\"}}]}')\n"
     ]
    }
   ],
   "source": [
    "file = open('telegram_getUpdates.json', 'r')\n",
    "pprint(file.read(500))"
   ]
  },
  {
   "cell_type": "code",
   "execution_count": 111,
   "metadata": {},
   "outputs": [
    {
     "name": "stdout",
     "output_type": "stream",
     "text": [
      "{'ok': True,\n",
      " 'result': [{'message': {'chat': {'first_name': 'Daniil',\n",
      "                                  'id': 61157288,\n",
      "                                  'last_name': 'Dyachenko',\n",
      "                                  'type': 'private',\n",
      "                                  'username': 'daniilstv'},\n",
      "                         'date': 1571473339,\n",
      "                         'from': {'first_name': 'Daniil',\n",
      "                                  'id': 61157288,\n",
      "                                  'is_bot': False,\n",
      "                                  'language_code': 'ru',\n",
      "                                  'last_name': 'Dyachenko',\n",
      "                                  'username': 'daniilstv'},\n",
      "                         'message_id': 3,\n",
      "                         'text': 'test'},\n",
      "             'update_id': 336077591}]}\n"
     ]
    }
   ],
   "source": [
    "pprint(data)"
   ]
  },
  {
   "cell_type": "code",
   "execution_count": 112,
   "metadata": {},
   "outputs": [
    {
     "data": {
      "text/plain": [
       "61157288"
      ]
     },
     "execution_count": 112,
     "metadata": {},
     "output_type": "execute_result"
    }
   ],
   "source": [
    "chat_id = data['result'][0]['message'][\"chat\"][\"id\"] #[0]\n",
    "chat_id"
   ]
  },
  {
   "cell_type": "code",
   "execution_count": 120,
   "metadata": {},
   "outputs": [
    {
     "name": "stdout",
     "output_type": "stream",
     "text": [
      "https://api.telegram.org/bot742479489:AAHyiWhsgG4Z7ZICtZde-Mr34Y9bDoo1_kU/sendMessage?chat_id=61157288&text=абра-кадабра!\n",
      "code 200\n",
      "{'ok': True,\n",
      " 'result': {'chat': {'first_name': 'Daniil',\n",
      "                     'id': 61157288,\n",
      "                     'last_name': 'Dyachenko',\n",
      "                     'type': 'private',\n",
      "                     'username': 'daniilstv'},\n",
      "            'date': 1571477677,\n",
      "            'from': {'first_name': 'sailor',\n",
      "                     'id': 742479489,\n",
      "                     'is_bot': True,\n",
      "                     'username': 'DrunkenSailorBot'},\n",
      "            'message_id': 6,\n",
      "            'text': 'абра-кадабра!'}}\n"
     ]
    }
   ],
   "source": [
    "text = \"абра-кадабра!\"\n",
    "method = f'/sendMessage?chat_id={chat_id}&text={text}'\n",
    "print(f'{main_link}{token}{method}')\n",
    "\n",
    "req = requests.get(f'{main_link}{token}{method}')\n",
    "if req.ok:\n",
    "    print(\"code 200\")\n",
    "    data = req.json()\n",
    "    \n",
    "pprint(data)"
   ]
  }
 ],
 "metadata": {
  "kernelspec": {
   "display_name": "Python 3",
   "language": "python",
   "name": "python3"
  },
  "language_info": {
   "codemirror_mode": {
    "name": "ipython",
    "version": 3
   },
   "file_extension": ".py",
   "mimetype": "text/x-python",
   "name": "python",
   "nbconvert_exporter": "python",
   "pygments_lexer": "ipython3",
   "version": "3.7.3"
  }
 },
 "nbformat": 4,
 "nbformat_minor": 2
}
